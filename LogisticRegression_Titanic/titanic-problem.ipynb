{
 "cells": [
  {
   "cell_type": "markdown",
   "id": "87be003a",
   "metadata": {
    "papermill": {
     "duration": 0.022574,
     "end_time": "2022-10-06T21:25:49.142069",
     "exception": false,
     "start_time": "2022-10-06T21:25:49.119495",
     "status": "completed"
    },
    "tags": []
   },
   "source": [
    "# Importing the libraries"
   ]
  },
  {
   "cell_type": "code",
   "execution_count": 3,
   "id": "39b11284",
   "metadata": {
    "_cell_guid": "b1076dfc-b9ad-4769-8c92-a6c4dae69d19",
    "_uuid": "8f2839f25d086af736a60e9eeb907d3b93b6e0e5",
    "execution": {
     "iopub.execute_input": "2022-10-06T21:25:49.182913Z",
     "iopub.status.busy": "2022-10-06T21:25:49.182123Z",
     "iopub.status.idle": "2022-10-06T21:25:50.987894Z",
     "shell.execute_reply": "2022-10-06T21:25:50.986721Z"
    },
    "papermill": {
     "duration": 1.828934,
     "end_time": "2022-10-06T21:25:50.989802",
     "exception": false,
     "start_time": "2022-10-06T21:25:49.160868",
     "status": "completed"
    },
    "tags": []
   },
   "outputs": [],
   "source": [
    "import numpy as np\n",
    "import pandas as pd\n",
    "import matplotlib.pyplot as plt\n",
    "import seaborn as sns\n",
    "from sklearn.linear_model import LogisticRegression\n",
    "from sklearn.metrics import confusion_matrix, accuracy_score"
   ]
  },
  {
   "cell_type": "markdown",
   "id": "218c9ae1",
   "metadata": {
    "papermill": {
     "duration": 0.018864,
     "end_time": "2022-10-06T21:25:51.026583",
     "exception": false,
     "start_time": "2022-10-06T21:25:51.007719",
     "status": "completed"
    },
    "tags": []
   },
   "source": [
    "# Importing the Datasets"
   ]
  },
  {
   "cell_type": "code",
   "execution_count": 4,
   "id": "0fffef50",
   "metadata": {
    "execution": {
     "iopub.execute_input": "2022-10-06T21:25:51.066809Z",
     "iopub.status.busy": "2022-10-06T21:25:51.065932Z",
     "iopub.status.idle": "2022-10-06T21:25:51.093432Z",
     "shell.execute_reply": "2022-10-06T21:25:51.092317Z"
    },
    "papermill": {
     "duration": 0.049774,
     "end_time": "2022-10-06T21:25:51.095368",
     "exception": false,
     "start_time": "2022-10-06T21:25:51.045594",
     "status": "completed"
    },
    "tags": []
   },
   "outputs": [
    {
     "data": {
      "text/html": [
       "<div>\n",
       "<style scoped>\n",
       "    .dataframe tbody tr th:only-of-type {\n",
       "        vertical-align: middle;\n",
       "    }\n",
       "\n",
       "    .dataframe tbody tr th {\n",
       "        vertical-align: top;\n",
       "    }\n",
       "\n",
       "    .dataframe thead th {\n",
       "        text-align: right;\n",
       "    }\n",
       "</style>\n",
       "<table border=\"1\" class=\"dataframe\">\n",
       "  <thead>\n",
       "    <tr style=\"text-align: right;\">\n",
       "      <th></th>\n",
       "      <th>PassengerId</th>\n",
       "      <th>Survived</th>\n",
       "      <th>Pclass</th>\n",
       "      <th>Name</th>\n",
       "      <th>Sex</th>\n",
       "      <th>Age</th>\n",
       "      <th>SibSp</th>\n",
       "      <th>Parch</th>\n",
       "      <th>Ticket</th>\n",
       "      <th>Fare</th>\n",
       "      <th>Cabin</th>\n",
       "      <th>Embarked</th>\n",
       "    </tr>\n",
       "  </thead>\n",
       "  <tbody>\n",
       "    <tr>\n",
       "      <th>0</th>\n",
       "      <td>1</td>\n",
       "      <td>0</td>\n",
       "      <td>3</td>\n",
       "      <td>Braund, Mr. Owen Harris</td>\n",
       "      <td>male</td>\n",
       "      <td>22.0</td>\n",
       "      <td>1</td>\n",
       "      <td>0</td>\n",
       "      <td>A/5 21171</td>\n",
       "      <td>7.2500</td>\n",
       "      <td>NaN</td>\n",
       "      <td>S</td>\n",
       "    </tr>\n",
       "    <tr>\n",
       "      <th>1</th>\n",
       "      <td>2</td>\n",
       "      <td>1</td>\n",
       "      <td>1</td>\n",
       "      <td>Cumings, Mrs. John Bradley (Florence Briggs Th...</td>\n",
       "      <td>female</td>\n",
       "      <td>38.0</td>\n",
       "      <td>1</td>\n",
       "      <td>0</td>\n",
       "      <td>PC 17599</td>\n",
       "      <td>71.2833</td>\n",
       "      <td>C85</td>\n",
       "      <td>C</td>\n",
       "    </tr>\n",
       "    <tr>\n",
       "      <th>2</th>\n",
       "      <td>3</td>\n",
       "      <td>1</td>\n",
       "      <td>3</td>\n",
       "      <td>Heikkinen, Miss. Laina</td>\n",
       "      <td>female</td>\n",
       "      <td>26.0</td>\n",
       "      <td>0</td>\n",
       "      <td>0</td>\n",
       "      <td>STON/O2. 3101282</td>\n",
       "      <td>7.9250</td>\n",
       "      <td>NaN</td>\n",
       "      <td>S</td>\n",
       "    </tr>\n",
       "    <tr>\n",
       "      <th>3</th>\n",
       "      <td>4</td>\n",
       "      <td>1</td>\n",
       "      <td>1</td>\n",
       "      <td>Futrelle, Mrs. Jacques Heath (Lily May Peel)</td>\n",
       "      <td>female</td>\n",
       "      <td>35.0</td>\n",
       "      <td>1</td>\n",
       "      <td>0</td>\n",
       "      <td>113803</td>\n",
       "      <td>53.1000</td>\n",
       "      <td>C123</td>\n",
       "      <td>S</td>\n",
       "    </tr>\n",
       "    <tr>\n",
       "      <th>4</th>\n",
       "      <td>5</td>\n",
       "      <td>0</td>\n",
       "      <td>3</td>\n",
       "      <td>Allen, Mr. William Henry</td>\n",
       "      <td>male</td>\n",
       "      <td>35.0</td>\n",
       "      <td>0</td>\n",
       "      <td>0</td>\n",
       "      <td>373450</td>\n",
       "      <td>8.0500</td>\n",
       "      <td>NaN</td>\n",
       "      <td>S</td>\n",
       "    </tr>\n",
       "  </tbody>\n",
       "</table>\n",
       "</div>"
      ],
      "text/plain": [
       "   PassengerId  Survived  Pclass  \\\n",
       "0            1         0       3   \n",
       "1            2         1       1   \n",
       "2            3         1       3   \n",
       "3            4         1       1   \n",
       "4            5         0       3   \n",
       "\n",
       "                                                Name     Sex   Age  SibSp  \\\n",
       "0                            Braund, Mr. Owen Harris    male  22.0      1   \n",
       "1  Cumings, Mrs. John Bradley (Florence Briggs Th...  female  38.0      1   \n",
       "2                             Heikkinen, Miss. Laina  female  26.0      0   \n",
       "3       Futrelle, Mrs. Jacques Heath (Lily May Peel)  female  35.0      1   \n",
       "4                           Allen, Mr. William Henry    male  35.0      0   \n",
       "\n",
       "   Parch            Ticket     Fare Cabin Embarked  \n",
       "0      0         A/5 21171   7.2500   NaN        S  \n",
       "1      0          PC 17599  71.2833   C85        C  \n",
       "2      0  STON/O2. 3101282   7.9250   NaN        S  \n",
       "3      0            113803  53.1000  C123        S  \n",
       "4      0            373450   8.0500   NaN        S  "
      ]
     },
     "execution_count": 4,
     "metadata": {},
     "output_type": "execute_result"
    }
   ],
   "source": [
    "train_data=pd.read_csv(\"titanic_train.csv\")\n",
    "train_data.head()"
   ]
  },
  {
   "cell_type": "code",
   "execution_count": 5,
   "id": "ddb3ecd3",
   "metadata": {},
   "outputs": [
    {
     "data": {
      "text/plain": [
       "(891, 12)"
      ]
     },
     "execution_count": 5,
     "metadata": {},
     "output_type": "execute_result"
    }
   ],
   "source": [
    "train_data.shape"
   ]
  },
  {
   "cell_type": "code",
   "execution_count": 6,
   "id": "10fd38c5",
   "metadata": {
    "execution": {
     "iopub.execute_input": "2022-10-06T21:25:51.134240Z",
     "iopub.status.busy": "2022-10-06T21:25:51.133904Z",
     "iopub.status.idle": "2022-10-06T21:25:51.154232Z",
     "shell.execute_reply": "2022-10-06T21:25:51.153128Z"
    },
    "papermill": {
     "duration": 0.04271,
     "end_time": "2022-10-06T21:25:51.156761",
     "exception": false,
     "start_time": "2022-10-06T21:25:51.114051",
     "status": "completed"
    },
    "tags": []
   },
   "outputs": [
    {
     "data": {
      "text/html": [
       "<div>\n",
       "<style scoped>\n",
       "    .dataframe tbody tr th:only-of-type {\n",
       "        vertical-align: middle;\n",
       "    }\n",
       "\n",
       "    .dataframe tbody tr th {\n",
       "        vertical-align: top;\n",
       "    }\n",
       "\n",
       "    .dataframe thead th {\n",
       "        text-align: right;\n",
       "    }\n",
       "</style>\n",
       "<table border=\"1\" class=\"dataframe\">\n",
       "  <thead>\n",
       "    <tr style=\"text-align: right;\">\n",
       "      <th></th>\n",
       "      <th>PassengerId</th>\n",
       "      <th>Pclass</th>\n",
       "      <th>Name</th>\n",
       "      <th>Sex</th>\n",
       "      <th>Age</th>\n",
       "      <th>SibSp</th>\n",
       "      <th>Parch</th>\n",
       "      <th>Ticket</th>\n",
       "      <th>Fare</th>\n",
       "      <th>Cabin</th>\n",
       "      <th>Embarked</th>\n",
       "    </tr>\n",
       "  </thead>\n",
       "  <tbody>\n",
       "    <tr>\n",
       "      <th>0</th>\n",
       "      <td>892</td>\n",
       "      <td>3</td>\n",
       "      <td>Kelly, Mr. James</td>\n",
       "      <td>male</td>\n",
       "      <td>34.5</td>\n",
       "      <td>0</td>\n",
       "      <td>0</td>\n",
       "      <td>330911</td>\n",
       "      <td>7.8292</td>\n",
       "      <td>NaN</td>\n",
       "      <td>Q</td>\n",
       "    </tr>\n",
       "    <tr>\n",
       "      <th>1</th>\n",
       "      <td>893</td>\n",
       "      <td>3</td>\n",
       "      <td>Wilkes, Mrs. James (Ellen Needs)</td>\n",
       "      <td>female</td>\n",
       "      <td>47.0</td>\n",
       "      <td>1</td>\n",
       "      <td>0</td>\n",
       "      <td>363272</td>\n",
       "      <td>7.0000</td>\n",
       "      <td>NaN</td>\n",
       "      <td>S</td>\n",
       "    </tr>\n",
       "    <tr>\n",
       "      <th>2</th>\n",
       "      <td>894</td>\n",
       "      <td>2</td>\n",
       "      <td>Myles, Mr. Thomas Francis</td>\n",
       "      <td>male</td>\n",
       "      <td>62.0</td>\n",
       "      <td>0</td>\n",
       "      <td>0</td>\n",
       "      <td>240276</td>\n",
       "      <td>9.6875</td>\n",
       "      <td>NaN</td>\n",
       "      <td>Q</td>\n",
       "    </tr>\n",
       "    <tr>\n",
       "      <th>3</th>\n",
       "      <td>895</td>\n",
       "      <td>3</td>\n",
       "      <td>Wirz, Mr. Albert</td>\n",
       "      <td>male</td>\n",
       "      <td>27.0</td>\n",
       "      <td>0</td>\n",
       "      <td>0</td>\n",
       "      <td>315154</td>\n",
       "      <td>8.6625</td>\n",
       "      <td>NaN</td>\n",
       "      <td>S</td>\n",
       "    </tr>\n",
       "    <tr>\n",
       "      <th>4</th>\n",
       "      <td>896</td>\n",
       "      <td>3</td>\n",
       "      <td>Hirvonen, Mrs. Alexander (Helga E Lindqvist)</td>\n",
       "      <td>female</td>\n",
       "      <td>22.0</td>\n",
       "      <td>1</td>\n",
       "      <td>1</td>\n",
       "      <td>3101298</td>\n",
       "      <td>12.2875</td>\n",
       "      <td>NaN</td>\n",
       "      <td>S</td>\n",
       "    </tr>\n",
       "  </tbody>\n",
       "</table>\n",
       "</div>"
      ],
      "text/plain": [
       "   PassengerId  Pclass                                          Name     Sex  \\\n",
       "0          892       3                              Kelly, Mr. James    male   \n",
       "1          893       3              Wilkes, Mrs. James (Ellen Needs)  female   \n",
       "2          894       2                     Myles, Mr. Thomas Francis    male   \n",
       "3          895       3                              Wirz, Mr. Albert    male   \n",
       "4          896       3  Hirvonen, Mrs. Alexander (Helga E Lindqvist)  female   \n",
       "\n",
       "    Age  SibSp  Parch   Ticket     Fare Cabin Embarked  \n",
       "0  34.5      0      0   330911   7.8292   NaN        Q  \n",
       "1  47.0      1      0   363272   7.0000   NaN        S  \n",
       "2  62.0      0      0   240276   9.6875   NaN        Q  \n",
       "3  27.0      0      0   315154   8.6625   NaN        S  \n",
       "4  22.0      1      1  3101298  12.2875   NaN        S  "
      ]
     },
     "execution_count": 6,
     "metadata": {},
     "output_type": "execute_result"
    }
   ],
   "source": [
    "test_data_org=test_data=pd.read_csv(\"titanic_test.csv\")\n",
    "test_data.head()"
   ]
  },
  {
   "cell_type": "code",
   "execution_count": 7,
   "id": "df85b4e1",
   "metadata": {},
   "outputs": [
    {
     "data": {
      "text/plain": [
       "(418, 11)"
      ]
     },
     "execution_count": 7,
     "metadata": {},
     "output_type": "execute_result"
    }
   ],
   "source": [
    "test_data.shape"
   ]
  },
  {
   "cell_type": "markdown",
   "id": "62b9b9d1",
   "metadata": {
    "papermill": {
     "duration": 0.018864,
     "end_time": "2022-10-06T21:25:51.194176",
     "exception": false,
     "start_time": "2022-10-06T21:25:51.175312",
     "status": "completed"
    },
    "tags": []
   },
   "source": [
    "# percentage of Women and Men"
   ]
  },
  {
   "cell_type": "code",
   "execution_count": 8,
   "id": "7aaae26d",
   "metadata": {
    "execution": {
     "iopub.execute_input": "2022-10-06T21:25:51.236068Z",
     "iopub.status.busy": "2022-10-06T21:25:51.235716Z",
     "iopub.status.idle": "2022-10-06T21:25:51.247553Z",
     "shell.execute_reply": "2022-10-06T21:25:51.246927Z"
    },
    "papermill": {
     "duration": 0.035456,
     "end_time": "2022-10-06T21:25:51.249561",
     "exception": false,
     "start_time": "2022-10-06T21:25:51.214105",
     "status": "completed"
    },
    "tags": []
   },
   "outputs": [
    {
     "name": "stdout",
     "output_type": "stream",
     "text": [
      "Total women:  314\n",
      "% of women who survived: 74.20382165605095\n"
     ]
    }
   ],
   "source": [
    "women = train_data.loc[train_data.Sex == 'female'][\"Survived\"]\n",
    "rate_women = sum(women)/len(women)\n",
    "print(\"Total women: \",len(women))\n",
    "\n",
    "print(\"% of women who survived:\", rate_women*100)"
   ]
  },
  {
   "cell_type": "code",
   "execution_count": 9,
   "id": "75fcafc9",
   "metadata": {
    "execution": {
     "iopub.execute_input": "2022-10-06T21:25:51.289254Z",
     "iopub.status.busy": "2022-10-06T21:25:51.288945Z",
     "iopub.status.idle": "2022-10-06T21:25:51.297303Z",
     "shell.execute_reply": "2022-10-06T21:25:51.296165Z"
    },
    "papermill": {
     "duration": 0.031212,
     "end_time": "2022-10-06T21:25:51.299798",
     "exception": false,
     "start_time": "2022-10-06T21:25:51.268586",
     "status": "completed"
    },
    "tags": []
   },
   "outputs": [
    {
     "name": "stdout",
     "output_type": "stream",
     "text": [
      "Total men:  577\n",
      "% of men who survived: 18.890814558058924\n"
     ]
    }
   ],
   "source": [
    "men = train_data.loc[train_data.Sex == 'male'][\"Survived\"]\n",
    "rate_men = sum(men)/len(men)\n",
    "print(\"Total men: \",len(men))\n",
    "\n",
    "print(\"% of men who survived:\", rate_men*100)"
   ]
  },
  {
   "cell_type": "markdown",
   "id": "8c0e4e4c",
   "metadata": {
    "papermill": {
     "duration": 0.018676,
     "end_time": "2022-10-06T21:25:51.337880",
     "exception": false,
     "start_time": "2022-10-06T21:25:51.319204",
     "status": "completed"
    },
    "tags": []
   },
   "source": [
    "# Describing Data"
   ]
  },
  {
   "cell_type": "code",
   "execution_count": 10,
   "id": "967ddab5",
   "metadata": {
    "execution": {
     "iopub.execute_input": "2022-10-06T21:25:51.377696Z",
     "iopub.status.busy": "2022-10-06T21:25:51.377367Z",
     "iopub.status.idle": "2022-10-06T21:25:51.397681Z",
     "shell.execute_reply": "2022-10-06T21:25:51.396409Z"
    },
    "papermill": {
     "duration": 0.042834,
     "end_time": "2022-10-06T21:25:51.400204",
     "exception": false,
     "start_time": "2022-10-06T21:25:51.357370",
     "status": "completed"
    },
    "tags": []
   },
   "outputs": [
    {
     "name": "stdout",
     "output_type": "stream",
     "text": [
      "<class 'pandas.core.frame.DataFrame'>\n",
      "RangeIndex: 891 entries, 0 to 890\n",
      "Data columns (total 12 columns):\n",
      " #   Column       Non-Null Count  Dtype  \n",
      "---  ------       --------------  -----  \n",
      " 0   PassengerId  891 non-null    int64  \n",
      " 1   Survived     891 non-null    int64  \n",
      " 2   Pclass       891 non-null    int64  \n",
      " 3   Name         891 non-null    object \n",
      " 4   Sex          891 non-null    object \n",
      " 5   Age          714 non-null    float64\n",
      " 6   SibSp        891 non-null    int64  \n",
      " 7   Parch        891 non-null    int64  \n",
      " 8   Ticket       891 non-null    object \n",
      " 9   Fare         891 non-null    float64\n",
      " 10  Cabin        204 non-null    object \n",
      " 11  Embarked     889 non-null    object \n",
      "dtypes: float64(2), int64(5), object(5)\n",
      "memory usage: 83.7+ KB\n",
      "None\n"
     ]
    }
   ],
   "source": [
    "print(train_data.info())"
   ]
  },
  {
   "cell_type": "code",
   "execution_count": 11,
   "id": "b77c39a7",
   "metadata": {
    "execution": {
     "iopub.execute_input": "2022-10-06T21:25:51.440456Z",
     "iopub.status.busy": "2022-10-06T21:25:51.440070Z",
     "iopub.status.idle": "2022-10-06T21:25:51.453319Z",
     "shell.execute_reply": "2022-10-06T21:25:51.452183Z"
    },
    "papermill": {
     "duration": 0.03641,
     "end_time": "2022-10-06T21:25:51.455925",
     "exception": false,
     "start_time": "2022-10-06T21:25:51.419515",
     "status": "completed"
    },
    "tags": []
   },
   "outputs": [
    {
     "name": "stdout",
     "output_type": "stream",
     "text": [
      "<class 'pandas.core.frame.DataFrame'>\n",
      "RangeIndex: 418 entries, 0 to 417\n",
      "Data columns (total 11 columns):\n",
      " #   Column       Non-Null Count  Dtype  \n",
      "---  ------       --------------  -----  \n",
      " 0   PassengerId  418 non-null    int64  \n",
      " 1   Pclass       418 non-null    int64  \n",
      " 2   Name         418 non-null    object \n",
      " 3   Sex          418 non-null    object \n",
      " 4   Age          332 non-null    float64\n",
      " 5   SibSp        418 non-null    int64  \n",
      " 6   Parch        418 non-null    int64  \n",
      " 7   Ticket       418 non-null    object \n",
      " 8   Fare         417 non-null    float64\n",
      " 9   Cabin        91 non-null     object \n",
      " 10  Embarked     418 non-null    object \n",
      "dtypes: float64(2), int64(4), object(5)\n",
      "memory usage: 36.0+ KB\n",
      "None\n"
     ]
    }
   ],
   "source": [
    "print(test_data.info())"
   ]
  },
  {
   "cell_type": "code",
   "execution_count": 12,
   "id": "450869bd",
   "metadata": {
    "execution": {
     "iopub.execute_input": "2022-10-06T21:25:51.499546Z",
     "iopub.status.busy": "2022-10-06T21:25:51.498526Z",
     "iopub.status.idle": "2022-10-06T21:25:51.523516Z",
     "shell.execute_reply": "2022-10-06T21:25:51.522033Z"
    },
    "papermill": {
     "duration": 0.049301,
     "end_time": "2022-10-06T21:25:51.525802",
     "exception": false,
     "start_time": "2022-10-06T21:25:51.476501",
     "status": "completed"
    },
    "tags": []
   },
   "outputs": [
    {
     "name": "stdout",
     "output_type": "stream",
     "text": [
      "       PassengerId    Survived      Pclass         Age       SibSp  \\\n",
      "count   891.000000  891.000000  891.000000  714.000000  891.000000   \n",
      "mean    446.000000    0.383838    2.308642   29.699118    0.523008   \n",
      "std     257.353842    0.486592    0.836071   14.526497    1.102743   \n",
      "min       1.000000    0.000000    1.000000    0.420000    0.000000   \n",
      "25%     223.500000    0.000000    2.000000   20.125000    0.000000   \n",
      "50%     446.000000    0.000000    3.000000   28.000000    0.000000   \n",
      "75%     668.500000    1.000000    3.000000   38.000000    1.000000   \n",
      "max     891.000000    1.000000    3.000000   80.000000    8.000000   \n",
      "\n",
      "            Parch        Fare  \n",
      "count  891.000000  891.000000  \n",
      "mean     0.381594   32.204208  \n",
      "std      0.806057   49.693429  \n",
      "min      0.000000    0.000000  \n",
      "25%      0.000000    7.910400  \n",
      "50%      0.000000   14.454200  \n",
      "75%      0.000000   31.000000  \n",
      "max      6.000000  512.329200  \n"
     ]
    }
   ],
   "source": [
    "print(train_data.describe())"
   ]
  },
  {
   "cell_type": "code",
   "execution_count": 13,
   "id": "6d8f8b5e",
   "metadata": {
    "execution": {
     "iopub.execute_input": "2022-10-06T21:25:51.567130Z",
     "iopub.status.busy": "2022-10-06T21:25:51.566808Z",
     "iopub.status.idle": "2022-10-06T21:25:51.591049Z",
     "shell.execute_reply": "2022-10-06T21:25:51.589844Z"
    },
    "papermill": {
     "duration": 0.047254,
     "end_time": "2022-10-06T21:25:51.593435",
     "exception": false,
     "start_time": "2022-10-06T21:25:51.546181",
     "status": "completed"
    },
    "tags": []
   },
   "outputs": [
    {
     "name": "stdout",
     "output_type": "stream",
     "text": [
      "       PassengerId      Pclass         Age       SibSp       Parch        Fare\n",
      "count   418.000000  418.000000  332.000000  418.000000  418.000000  417.000000\n",
      "mean   1100.500000    2.265550   30.272590    0.447368    0.392344   35.627188\n",
      "std     120.810458    0.841838   14.181209    0.896760    0.981429   55.907576\n",
      "min     892.000000    1.000000    0.170000    0.000000    0.000000    0.000000\n",
      "25%     996.250000    1.000000   21.000000    0.000000    0.000000    7.895800\n",
      "50%    1100.500000    3.000000   27.000000    0.000000    0.000000   14.454200\n",
      "75%    1204.750000    3.000000   39.000000    1.000000    0.000000   31.500000\n",
      "max    1309.000000    3.000000   76.000000    8.000000    9.000000  512.329200\n"
     ]
    }
   ],
   "source": [
    "print(test_data.describe())"
   ]
  },
  {
   "cell_type": "markdown",
   "id": "909c5c20",
   "metadata": {
    "papermill": {
     "duration": 0.02041,
     "end_time": "2022-10-06T21:25:51.634073",
     "exception": false,
     "start_time": "2022-10-06T21:25:51.613663",
     "status": "completed"
    },
    "tags": []
   },
   "source": [
    "# Relations between dependent variable and independent variables"
   ]
  },
  {
   "cell_type": "code",
   "execution_count": 14,
   "id": "35a88f70",
   "metadata": {
    "_kg_hide-input": false,
    "execution": {
     "iopub.execute_input": "2022-10-06T21:25:51.677375Z",
     "iopub.status.busy": "2022-10-06T21:25:51.677005Z",
     "iopub.status.idle": "2022-10-06T21:25:51.697041Z",
     "shell.execute_reply": "2022-10-06T21:25:51.695660Z"
    },
    "papermill": {
     "duration": 0.045147,
     "end_time": "2022-10-06T21:25:51.699429",
     "exception": false,
     "start_time": "2022-10-06T21:25:51.654282",
     "status": "completed"
    },
    "tags": []
   },
   "outputs": [
    {
     "data": {
      "text/plain": [
       "<Figure size 720x432 with 0 Axes>"
      ]
     },
     "execution_count": 14,
     "metadata": {},
     "output_type": "execute_result"
    },
    {
     "data": {
      "text/plain": [
       "<Figure size 720x432 with 0 Axes>"
      ]
     },
     "metadata": {},
     "output_type": "display_data"
    }
   ],
   "source": [
    "plt.figure(figsize=(10,6))"
   ]
  },
  {
   "cell_type": "code",
   "execution_count": 15,
   "id": "f236bb35",
   "metadata": {
    "execution": {
     "iopub.execute_input": "2022-10-06T21:25:51.741753Z",
     "iopub.status.busy": "2022-10-06T21:25:51.741258Z",
     "iopub.status.idle": "2022-10-06T21:25:51.979423Z",
     "shell.execute_reply": "2022-10-06T21:25:51.977908Z"
    },
    "papermill": {
     "duration": 0.262159,
     "end_time": "2022-10-06T21:25:51.981603",
     "exception": false,
     "start_time": "2022-10-06T21:25:51.719444",
     "status": "completed"
    },
    "tags": []
   },
   "outputs": [
    {
     "data": {
      "text/plain": [
       "<AxesSubplot:title={'center':'Males and Females who survived'}, xlabel='Sex', ylabel='Survived'>"
      ]
     },
     "execution_count": 15,
     "metadata": {},
     "output_type": "execute_result"
    },
    {
     "data": {
      "image/png": "[encoded data removed]",
      "text/plain": [
       "<Figure size 432x288 with 1 Axes>"
      ]
     },
     "metadata": {
      "needs_background": "light"
     },
     "output_type": "display_data"
    }
   ],
   "source": [
    "plt.title(\"Males and Females who survived\")\n",
    "sns.barplot(x=train_data['Sex'],\n",
    "             y=train_data['Survived'])"
   ]
  },
  {
   "cell_type": "code",
   "execution_count": 16,
   "id": "3b4725cb",
   "metadata": {
    "execution": {
     "iopub.execute_input": "2022-10-06T21:25:52.024987Z",
     "iopub.status.busy": "2022-10-06T21:25:52.024569Z",
     "iopub.status.idle": "2022-10-06T21:25:52.708009Z",
     "shell.execute_reply": "2022-10-06T21:25:52.707111Z"
    },
    "papermill": {
     "duration": 0.707651,
     "end_time": "2022-10-06T21:25:52.709812",
     "exception": false,
     "start_time": "2022-10-06T21:25:52.002161",
     "status": "completed"
    },
    "tags": []
   },
   "outputs": [
    {
     "name": "stderr",
     "output_type": "stream",
     "text": [
      "C:\\Users\\disha\\anaconda3\\lib\\site-packages\\seaborn\\categorical.py:1296: UserWarning: 6.7% of the points cannot be placed; you may want to decrease the size of the markers or use stripplot.\n",
      "  warnings.warn(msg, UserWarning)\n"
     ]
    },
    {
     "data": {
      "text/plain": [
       "<AxesSubplot:title={'center':'Age of people who survived or did not survive'}, xlabel='Survived', ylabel='Age'>"
      ]
     },
     "execution_count": 16,
     "metadata": {},
     "output_type": "execute_result"
    },
    {
     "data": {
      "image/png": "[encoded data removed]",
      "text/plain": [
       "<Figure size 432x288 with 1 Axes>"
      ]
     },
     "metadata": {
      "needs_background": "light"
     },
     "output_type": "display_data"
    }
   ],
   "source": [
    "plt.title(\"Age of people who survived or did not survive\")\n",
    "sns.swarmplot(x=train_data['Survived'], y=train_data['Age'])"
   ]
  },
  {
   "cell_type": "code",
   "execution_count": 17,
   "id": "6f34aac7",
   "metadata": {
    "execution": {
     "iopub.execute_input": "2022-10-06T21:25:52.753378Z",
     "iopub.status.busy": "2022-10-06T21:25:52.753011Z",
     "iopub.status.idle": "2022-10-06T21:25:57.482720Z",
     "shell.execute_reply": "2022-10-06T21:25:57.481930Z"
    },
    "papermill": {
     "duration": 4.753646,
     "end_time": "2022-10-06T21:25:57.484610",
     "exception": false,
     "start_time": "2022-10-06T21:25:52.730964",
     "status": "completed"
    },
    "scrolled": true,
    "tags": []
   },
   "outputs": [
    {
     "name": "stderr",
     "output_type": "stream",
     "text": [
      "C:\\Users\\disha\\anaconda3\\lib\\site-packages\\seaborn\\categorical.py:1296: UserWarning: 72.3% of the points cannot be placed; you may want to decrease the size of the markers or use stripplot.\n",
      "  warnings.warn(msg, UserWarning)\n",
      "C:\\Users\\disha\\anaconda3\\lib\\site-packages\\seaborn\\categorical.py:1296: UserWarning: 46.5% of the points cannot be placed; you may want to decrease the size of the markers or use stripplot.\n",
      "  warnings.warn(msg, UserWarning)\n"
     ]
    },
    {
     "data": {
      "text/plain": [
       "<AxesSubplot:title={'center':\"People's Fare who survived or did not survive\"}, xlabel='Survived', ylabel='Fare'>"
      ]
     },
     "execution_count": 17,
     "metadata": {},
     "output_type": "execute_result"
    },
    {
     "data": {
      "image/png": "[encoded data removed]",
      "text/plain": [
       "<Figure size 432x288 with 1 Axes>"
      ]
     },
     "metadata": {
      "needs_background": "light"
     },
     "output_type": "display_data"
    }
   ],
   "source": [
    "plt.title(\"People's Fare who survived or did not survive\")\n",
    "sns.swarmplot(x=train_data['Survived'], y=train_data['Fare'])"
   ]
  },
  {
   "cell_type": "code",
   "execution_count": 18,
   "id": "54f124e2",
   "metadata": {
    "execution": {
     "iopub.execute_input": "2022-10-06T21:25:57.531791Z",
     "iopub.status.busy": "2022-10-06T21:25:57.530977Z",
     "iopub.status.idle": "2022-10-06T21:25:57.811034Z",
     "shell.execute_reply": "2022-10-06T21:25:57.809973Z"
    },
    "papermill": {
     "duration": 0.304529,
     "end_time": "2022-10-06T21:25:57.812809",
     "exception": false,
     "start_time": "2022-10-06T21:25:57.508280",
     "status": "completed"
    },
    "tags": []
   },
   "outputs": [
    {
     "data": {
      "text/plain": [
       "<AxesSubplot:title={'center':'Survived and not survived people with their Fare and Age'}, xlabel='Age', ylabel='Fare'>"
      ]
     },
     "execution_count": 18,
     "metadata": {},
     "output_type": "execute_result"
    },
    {
     "data": {
      "image/png": "[encoded data removed]",
      "text/plain": [
       "<Figure size 432x288 with 1 Axes>"
      ]
     },
     "metadata": {
      "needs_background": "light"
     },
     "output_type": "display_data"
    }
   ],
   "source": [
    "plt.title(\"Survived and not survived people with their Fare and Age\")\n",
    "sns.scatterplot(x=train_data['Age'], y=train_data['Fare'], hue=train_data['Survived'])"
   ]
  },
  {
   "cell_type": "markdown",
   "id": "7bf1ba54",
   "metadata": {
    "papermill": {
     "duration": 0.021804,
     "end_time": "2022-10-06T21:25:57.857695",
     "exception": false,
     "start_time": "2022-10-06T21:25:57.835891",
     "status": "completed"
    },
    "tags": []
   },
   "source": [
    "# Taking Ground Truth from Train Data"
   ]
  },
  {
   "cell_type": "code",
   "execution_count": 19,
   "id": "bf02c7a6",
   "metadata": {
    "execution": {
     "iopub.execute_input": "2022-10-06T21:25:57.904675Z",
     "iopub.status.busy": "2022-10-06T21:25:57.904298Z",
     "iopub.status.idle": "2022-10-06T21:25:57.910137Z",
     "shell.execute_reply": "2022-10-06T21:25:57.908524Z"
    },
    "papermill": {
     "duration": 0.032715,
     "end_time": "2022-10-06T21:25:57.912888",
     "exception": false,
     "start_time": "2022-10-06T21:25:57.880173",
     "status": "completed"
    },
    "tags": []
   },
   "outputs": [
    {
     "data": {
      "text/plain": [
       "(891,)"
      ]
     },
     "execution_count": 19,
     "metadata": {},
     "output_type": "execute_result"
    }
   ],
   "source": [
    "y=train_data['Survived'].values\n",
    "y.shape"
   ]
  },
  {
   "cell_type": "markdown",
   "id": "ce9c5e74",
   "metadata": {
    "papermill": {
     "duration": 0.024178,
     "end_time": "2022-10-06T21:25:57.964036",
     "exception": false,
     "start_time": "2022-10-06T21:25:57.939858",
     "status": "completed"
    },
    "tags": []
   },
   "source": [
    "# Merging Train Data and Test Data"
   ]
  },
  {
   "cell_type": "code",
   "execution_count": 20,
   "id": "c5369c22",
   "metadata": {
    "execution": {
     "iopub.execute_input": "2022-10-06T21:25:58.010897Z",
     "iopub.status.busy": "2022-10-06T21:25:58.010436Z",
     "iopub.status.idle": "2022-10-06T21:25:58.023403Z",
     "shell.execute_reply": "2022-10-06T21:25:58.022793Z"
    },
    "papermill": {
     "duration": 0.038658,
     "end_time": "2022-10-06T21:25:58.025404",
     "exception": false,
     "start_time": "2022-10-06T21:25:57.986746",
     "status": "completed"
    },
    "tags": []
   },
   "outputs": [
    {
     "name": "stdout",
     "output_type": "stream",
     "text": [
      "      PassengerId  Pclass                                               Name  \\\n",
      "0               1       3                            Braund, Mr. Owen Harris   \n",
      "1               2       1  Cumings, Mrs. John Bradley (Florence Briggs Th...   \n",
      "2               3       3                             Heikkinen, Miss. Laina   \n",
      "3               4       1       Futrelle, Mrs. Jacques Heath (Lily May Peel)   \n",
      "4               5       3                           Allen, Mr. William Henry   \n",
      "...           ...     ...                                                ...   \n",
      "1304         1305       3                                 Spector, Mr. Woolf   \n",
      "1305         1306       1                       Oliva y Ocana, Dona. Fermina   \n",
      "1306         1307       3                       Saether, Mr. Simon Sivertsen   \n",
      "1307         1308       3                                Ware, Mr. Frederick   \n",
      "1308         1309       3                           Peter, Master. Michael J   \n",
      "\n",
      "         Sex   Age  SibSp  Parch              Ticket      Fare Cabin Embarked  \n",
      "0       male  22.0      1      0           A/5 21171    7.2500   NaN        S  \n",
      "1     female  38.0      1      0            PC 17599   71.2833   C85        C  \n",
      "2     female  26.0      0      0    STON/O2. 3101282    7.9250   NaN        S  \n",
      "3     female  35.0      1      0              113803   53.1000  C123        S  \n",
      "4       male  35.0      0      0              373450    8.0500   NaN        S  \n",
      "...      ...   ...    ...    ...                 ...       ...   ...      ...  \n",
      "1304    male   NaN      0      0           A.5. 3236    8.0500   NaN        S  \n",
      "1305  female  39.0      0      0            PC 17758  108.9000  C105        C  \n",
      "1306    male  38.5      0      0  SOTON/O.Q. 3101262    7.2500   NaN        S  \n",
      "1307    male   NaN      0      0              359309    8.0500   NaN        S  \n",
      "1308    male   NaN      1      1                2668   22.3583   NaN        C  \n",
      "\n",
      "[1309 rows x 11 columns]\n"
     ]
    }
   ],
   "source": [
    "train_data=train_data.drop(['Survived'], axis=1)\n",
    "concated_data=pd.concat([train_data,test_data],ignore_index=True)\n",
    "print(concated_data)"
   ]
  },
  {
   "cell_type": "code",
   "execution_count": 21,
   "id": "3fd5dfbe",
   "metadata": {},
   "outputs": [
    {
     "data": {
      "text/html": [
       "<div>\n",
       "<style scoped>\n",
       "    .dataframe tbody tr th:only-of-type {\n",
       "        vertical-align: middle;\n",
       "    }\n",
       "\n",
       "    .dataframe tbody tr th {\n",
       "        vertical-align: top;\n",
       "    }\n",
       "\n",
       "    .dataframe thead th {\n",
       "        text-align: right;\n",
       "    }\n",
       "</style>\n",
       "<table border=\"1\" class=\"dataframe\">\n",
       "  <thead>\n",
       "    <tr style=\"text-align: right;\">\n",
       "      <th></th>\n",
       "      <th>PassengerId</th>\n",
       "      <th>Pclass</th>\n",
       "      <th>Name</th>\n",
       "      <th>Sex</th>\n",
       "      <th>Age</th>\n",
       "      <th>SibSp</th>\n",
       "      <th>Parch</th>\n",
       "      <th>Ticket</th>\n",
       "      <th>Fare</th>\n",
       "      <th>Cabin</th>\n",
       "      <th>Embarked</th>\n",
       "    </tr>\n",
       "  </thead>\n",
       "  <tbody>\n",
       "    <tr>\n",
       "      <th>0</th>\n",
       "      <td>1</td>\n",
       "      <td>3</td>\n",
       "      <td>Braund, Mr. Owen Harris</td>\n",
       "      <td>male</td>\n",
       "      <td>22.0</td>\n",
       "      <td>1</td>\n",
       "      <td>0</td>\n",
       "      <td>A/5 21171</td>\n",
       "      <td>7.2500</td>\n",
       "      <td>NaN</td>\n",
       "      <td>S</td>\n",
       "    </tr>\n",
       "    <tr>\n",
       "      <th>1</th>\n",
       "      <td>2</td>\n",
       "      <td>1</td>\n",
       "      <td>Cumings, Mrs. John Bradley (Florence Briggs Th...</td>\n",
       "      <td>female</td>\n",
       "      <td>38.0</td>\n",
       "      <td>1</td>\n",
       "      <td>0</td>\n",
       "      <td>PC 17599</td>\n",
       "      <td>71.2833</td>\n",
       "      <td>C85</td>\n",
       "      <td>C</td>\n",
       "    </tr>\n",
       "    <tr>\n",
       "      <th>2</th>\n",
       "      <td>3</td>\n",
       "      <td>3</td>\n",
       "      <td>Heikkinen, Miss. Laina</td>\n",
       "      <td>female</td>\n",
       "      <td>26.0</td>\n",
       "      <td>0</td>\n",
       "      <td>0</td>\n",
       "      <td>STON/O2. 3101282</td>\n",
       "      <td>7.9250</td>\n",
       "      <td>NaN</td>\n",
       "      <td>S</td>\n",
       "    </tr>\n",
       "    <tr>\n",
       "      <th>3</th>\n",
       "      <td>4</td>\n",
       "      <td>1</td>\n",
       "      <td>Futrelle, Mrs. Jacques Heath (Lily May Peel)</td>\n",
       "      <td>female</td>\n",
       "      <td>35.0</td>\n",
       "      <td>1</td>\n",
       "      <td>0</td>\n",
       "      <td>113803</td>\n",
       "      <td>53.1000</td>\n",
       "      <td>C123</td>\n",
       "      <td>S</td>\n",
       "    </tr>\n",
       "    <tr>\n",
       "      <th>4</th>\n",
       "      <td>5</td>\n",
       "      <td>3</td>\n",
       "      <td>Allen, Mr. William Henry</td>\n",
       "      <td>male</td>\n",
       "      <td>35.0</td>\n",
       "      <td>0</td>\n",
       "      <td>0</td>\n",
       "      <td>373450</td>\n",
       "      <td>8.0500</td>\n",
       "      <td>NaN</td>\n",
       "      <td>S</td>\n",
       "    </tr>\n",
       "  </tbody>\n",
       "</table>\n",
       "</div>"
      ],
      "text/plain": [
       "   PassengerId  Pclass                                               Name  \\\n",
       "0            1       3                            Braund, Mr. Owen Harris   \n",
       "1            2       1  Cumings, Mrs. John Bradley (Florence Briggs Th...   \n",
       "2            3       3                             Heikkinen, Miss. Laina   \n",
       "3            4       1       Futrelle, Mrs. Jacques Heath (Lily May Peel)   \n",
       "4            5       3                           Allen, Mr. William Henry   \n",
       "\n",
       "      Sex   Age  SibSp  Parch            Ticket     Fare Cabin Embarked  \n",
       "0    male  22.0      1      0         A/5 21171   7.2500   NaN        S  \n",
       "1  female  38.0      1      0          PC 17599  71.2833   C85        C  \n",
       "2  female  26.0      0      0  STON/O2. 3101282   7.9250   NaN        S  \n",
       "3  female  35.0      1      0            113803  53.1000  C123        S  \n",
       "4    male  35.0      0      0            373450   8.0500   NaN        S  "
      ]
     },
     "execution_count": 21,
     "metadata": {},
     "output_type": "execute_result"
    }
   ],
   "source": [
    "concated_data.head()"
   ]
  },
  {
   "cell_type": "markdown",
   "id": "4a0d2051",
   "metadata": {
    "papermill": {
     "duration": 0.020328,
     "end_time": "2022-10-06T21:25:58.067726",
     "exception": false,
     "start_time": "2022-10-06T21:25:58.047398",
     "status": "completed"
    },
    "tags": []
   },
   "source": [
    "# Feature Engineering"
   ]
  },
  {
   "cell_type": "code",
   "execution_count": 22,
   "id": "df56a5fb",
   "metadata": {
    "execution": {
     "iopub.execute_input": "2022-10-06T21:25:58.115878Z",
     "iopub.status.busy": "2022-10-06T21:25:58.115531Z",
     "iopub.status.idle": "2022-10-06T21:25:58.122746Z",
     "shell.execute_reply": "2022-10-06T21:25:58.121782Z"
    },
    "papermill": {
     "duration": 0.034518,
     "end_time": "2022-10-06T21:25:58.124494",
     "exception": false,
     "start_time": "2022-10-06T21:25:58.089976",
     "status": "completed"
    },
    "tags": []
   },
   "outputs": [],
   "source": [
    "concated_data['Relatives'] = concated_data['SibSp'] + concated_data['Parch']\n",
    "concated_data.loc[concated_data['Relatives'] > 0, 'Alone'] = 0\n",
    "concated_data.loc[concated_data['Relatives'] == 0, 'Alone'] = 1"
   ]
  },
  {
   "cell_type": "markdown",
   "id": "ee88dd0e",
   "metadata": {
    "papermill": {
     "duration": 0.023324,
     "end_time": "2022-10-06T21:25:58.170018",
     "exception": false,
     "start_time": "2022-10-06T21:25:58.146694",
     "status": "completed"
    },
    "tags": []
   },
   "source": [
    "# Checking Nan values"
   ]
  },
  {
   "cell_type": "code",
   "execution_count": 23,
   "id": "72f6bbba",
   "metadata": {},
   "outputs": [
    {
     "data": {
      "text/plain": [
       "Index(['PassengerId', 'Pclass', 'Name', 'Sex', 'Age', 'SibSp', 'Parch',\n",
       "       'Ticket', 'Fare', 'Cabin', 'Embarked', 'Relatives', 'Alone'],\n",
       "      dtype='object')"
      ]
     },
     "execution_count": 23,
     "metadata": {},
     "output_type": "execute_result"
    }
   ],
   "source": [
    "concated_data.columns"
   ]
  },
  {
   "cell_type": "code",
   "execution_count": null,
   "id": "687604a7",
   "metadata": {},
   "outputs": [],
   "source": []
  },
  {
   "cell_type": "code",
   "execution_count": 24,
   "id": "8c0bca64",
   "metadata": {
    "execution": {
     "iopub.execute_input": "2022-10-06T21:25:58.225148Z",
     "iopub.status.busy": "2022-10-06T21:25:58.224554Z",
     "iopub.status.idle": "2022-10-06T21:25:58.233754Z",
     "shell.execute_reply": "2022-10-06T21:25:58.232712Z"
    },
    "papermill": {
     "duration": 0.039426,
     "end_time": "2022-10-06T21:25:58.236645",
     "exception": false,
     "start_time": "2022-10-06T21:25:58.197219",
     "status": "completed"
    },
    "tags": []
   },
   "outputs": [
    {
     "name": "stdout",
     "output_type": "stream",
     "text": [
      "PassengerId column missing values: 0\n",
      "Pclass column missing values: 0\n",
      "Name column missing values: 0\n",
      "Sex column missing values: 0\n",
      "Age column missing values: 263\n",
      "SibSp column missing values: 0\n",
      "Parch column missing values: 0\n",
      "Ticket column missing values: 0\n",
      "Fare column missing values: 1\n",
      "Cabin column missing values: 1014\n",
      "Embarked column missing values: 2\n",
      "Relatives column missing values: 0\n",
      "Alone column missing values: 0\n"
     ]
    }
   ],
   "source": [
    "for col in concated_data.columns.tolist():          \n",
    "    print('{} column missing values: {}'.format(col, concated_data[col].isnull().sum()))"
   ]
  },
  {
   "cell_type": "code",
   "execution_count": 25,
   "id": "cc9e4581",
   "metadata": {
    "execution": {
     "iopub.execute_input": "2022-10-06T21:25:58.284371Z",
     "iopub.status.busy": "2022-10-06T21:25:58.283773Z",
     "iopub.status.idle": "2022-10-06T21:25:58.301244Z",
     "shell.execute_reply": "2022-10-06T21:25:58.299914Z"
    },
    "papermill": {
     "duration": 0.042828,
     "end_time": "2022-10-06T21:25:58.303276",
     "exception": false,
     "start_time": "2022-10-06T21:25:58.260448",
     "status": "completed"
    },
    "tags": []
   },
   "outputs": [
    {
     "data": {
      "text/html": [
       "<div>\n",
       "<style scoped>\n",
       "    .dataframe tbody tr th:only-of-type {\n",
       "        vertical-align: middle;\n",
       "    }\n",
       "\n",
       "    .dataframe tbody tr th {\n",
       "        vertical-align: top;\n",
       "    }\n",
       "\n",
       "    .dataframe thead th {\n",
       "        text-align: right;\n",
       "    }\n",
       "</style>\n",
       "<table border=\"1\" class=\"dataframe\">\n",
       "  <thead>\n",
       "    <tr style=\"text-align: right;\">\n",
       "      <th></th>\n",
       "      <th>PassengerId</th>\n",
       "      <th>Pclass</th>\n",
       "      <th>Name</th>\n",
       "      <th>Sex</th>\n",
       "      <th>Age</th>\n",
       "      <th>SibSp</th>\n",
       "      <th>Parch</th>\n",
       "      <th>Ticket</th>\n",
       "      <th>Fare</th>\n",
       "      <th>Cabin</th>\n",
       "      <th>Embarked</th>\n",
       "      <th>Relatives</th>\n",
       "      <th>Alone</th>\n",
       "    </tr>\n",
       "  </thead>\n",
       "  <tbody>\n",
       "    <tr>\n",
       "      <th>61</th>\n",
       "      <td>62</td>\n",
       "      <td>1</td>\n",
       "      <td>Icard, Miss. Amelie</td>\n",
       "      <td>female</td>\n",
       "      <td>38.0</td>\n",
       "      <td>0</td>\n",
       "      <td>0</td>\n",
       "      <td>113572</td>\n",
       "      <td>80.0</td>\n",
       "      <td>B28</td>\n",
       "      <td>NaN</td>\n",
       "      <td>0</td>\n",
       "      <td>1.0</td>\n",
       "    </tr>\n",
       "    <tr>\n",
       "      <th>829</th>\n",
       "      <td>830</td>\n",
       "      <td>1</td>\n",
       "      <td>Stone, Mrs. George Nelson (Martha Evelyn)</td>\n",
       "      <td>female</td>\n",
       "      <td>62.0</td>\n",
       "      <td>0</td>\n",
       "      <td>0</td>\n",
       "      <td>113572</td>\n",
       "      <td>80.0</td>\n",
       "      <td>B28</td>\n",
       "      <td>NaN</td>\n",
       "      <td>0</td>\n",
       "      <td>1.0</td>\n",
       "    </tr>\n",
       "  </tbody>\n",
       "</table>\n",
       "</div>"
      ],
      "text/plain": [
       "     PassengerId  Pclass                                       Name     Sex  \\\n",
       "61            62       1                        Icard, Miss. Amelie  female   \n",
       "829          830       1  Stone, Mrs. George Nelson (Martha Evelyn)  female   \n",
       "\n",
       "      Age  SibSp  Parch  Ticket  Fare Cabin Embarked  Relatives  Alone  \n",
       "61   38.0      0      0  113572  80.0   B28      NaN          0    1.0  \n",
       "829  62.0      0      0  113572  80.0   B28      NaN          0    1.0  "
      ]
     },
     "execution_count": 25,
     "metadata": {},
     "output_type": "execute_result"
    }
   ],
   "source": [
    "concated_data[concated_data['Embarked'].isnull()]"
   ]
  },
  {
   "cell_type": "markdown",
   "id": "6ed8b9eb",
   "metadata": {
    "papermill": {
     "duration": 0.02214,
     "end_time": "2022-10-06T21:25:58.348017",
     "exception": false,
     "start_time": "2022-10-06T21:25:58.325877",
     "status": "completed"
    },
    "tags": []
   },
   "source": [
    "# Now fix these values:"
   ]
  },
  {
   "cell_type": "code",
   "execution_count": 26,
   "id": "498bcd2f",
   "metadata": {
    "execution": {
     "iopub.execute_input": "2022-10-06T21:25:58.396648Z",
     "iopub.status.busy": "2022-10-06T21:25:58.396289Z",
     "iopub.status.idle": "2022-10-06T21:25:58.404210Z",
     "shell.execute_reply": "2022-10-06T21:25:58.402862Z"
    },
    "papermill": {
     "duration": 0.03517,
     "end_time": "2022-10-06T21:25:58.406031",
     "exception": false,
     "start_time": "2022-10-06T21:25:58.370861",
     "status": "completed"
    },
    "tags": []
   },
   "outputs": [
    {
     "name": "stdout",
     "output_type": "stream",
     "text": [
      "row 61:  S\n",
      "row 829:  S\n"
     ]
    }
   ],
   "source": [
    "concated_data['Embarked'] = concated_data['Embarked'].fillna('S')\n",
    "print(\"row 61: \",concated_data.iloc[61,10])\n",
    "print(\"row 829: \",concated_data.iloc[829,10])"
   ]
  },
  {
   "cell_type": "markdown",
   "id": "db426eb1",
   "metadata": {
    "papermill": {
     "duration": 0.022257,
     "end_time": "2022-10-06T21:25:58.451242",
     "exception": false,
     "start_time": "2022-10-06T21:25:58.428985",
     "status": "completed"
    },
    "tags": []
   },
   "source": [
    "# Feature Selection"
   ]
  },
  {
   "cell_type": "code",
   "execution_count": 27,
   "id": "183fb417",
   "metadata": {
    "execution": {
     "iopub.execute_input": "2022-10-06T21:25:58.499051Z",
     "iopub.status.busy": "2022-10-06T21:25:58.498700Z",
     "iopub.status.idle": "2022-10-06T21:25:58.506264Z",
     "shell.execute_reply": "2022-10-06T21:25:58.504654Z"
    },
    "papermill": {
     "duration": 0.035195,
     "end_time": "2022-10-06T21:25:58.508978",
     "exception": false,
     "start_time": "2022-10-06T21:25:58.473783",
     "status": "completed"
    },
    "tags": []
   },
   "outputs": [
    {
     "name": "stdout",
     "output_type": "stream",
     "text": [
      "[[3 'male' 22.0 1 0 7.25 'S' 1]\n",
      " [1 'female' 38.0 1 0 71.2833 'C' 1]\n",
      " [3 'female' 26.0 0 0 7.925 'S' 0]\n",
      " [1 'female' 35.0 1 0 53.1 'S' 1]\n",
      " [3 'male' 35.0 0 0 8.05 'S' 0]]\n"
     ]
    }
   ],
   "source": [
    "X=concated_data[['Pclass','Sex','Age','SibSp','Parch','Fare','Embarked','Relatives']].values\n",
    "print(X[0:5,:])"
   ]
  },
  {
   "cell_type": "markdown",
   "id": "622d8c44",
   "metadata": {
    "papermill": {
     "duration": 0.027773,
     "end_time": "2022-10-06T21:25:58.560590",
     "exception": false,
     "start_time": "2022-10-06T21:25:58.532817",
     "status": "completed"
    },
    "tags": []
   },
   "source": [
    "# Taking care of missing data"
   ]
  },
  {
   "cell_type": "code",
   "execution_count": 28,
   "id": "bc832e07",
   "metadata": {
    "execution": {
     "iopub.execute_input": "2022-10-06T21:25:58.620227Z",
     "iopub.status.busy": "2022-10-06T21:25:58.619875Z",
     "iopub.status.idle": "2022-10-06T21:25:58.635619Z",
     "shell.execute_reply": "2022-10-06T21:25:58.634403Z"
    },
    "papermill": {
     "duration": 0.044155,
     "end_time": "2022-10-06T21:25:58.638990",
     "exception": false,
     "start_time": "2022-10-06T21:25:58.594835",
     "status": "completed"
    },
    "tags": []
   },
   "outputs": [
    {
     "name": "stdout",
     "output_type": "stream",
     "text": [
      "[[3 'male' 22.0 1 0 7.25 'S' 1]\n",
      " [1 'female' 38.0 1 0 71.2833 'C' 1]\n",
      " [3 'female' 26.0 0 0 7.925 'S' 0]\n",
      " [1 'female' 35.0 1 0 53.1 'S' 1]\n",
      " [3 'male' 35.0 0 0 8.05 'S' 0]\n",
      " [3 'male' 29.881137667304014 0 0 8.4583 'Q' 0]]\n"
     ]
    }
   ],
   "source": [
    "from sklearn.impute import SimpleImputer\n",
    "imputer=SimpleImputer(missing_values=np.nan, strategy='mean')\n",
    "\n",
    "imputer.fit(X[:,2].reshape(-1,1))\n",
    "X[:,2]=(imputer.transform(X[:,2].reshape(-1,1))).reshape(-1,)\n",
    "\n",
    "imputer.fit(X[:,5].reshape(-1,1))\n",
    "X[:,5]=(imputer.transform(X[:,5].reshape(-1,1))).reshape(-1,)\n",
    "\n",
    "print(X[:6])"
   ]
  },
  {
   "cell_type": "markdown",
   "id": "3c8b82c9",
   "metadata": {
    "papermill": {
     "duration": 0.024895,
     "end_time": "2022-10-06T21:25:58.690722",
     "exception": false,
     "start_time": "2022-10-06T21:25:58.665827",
     "status": "completed"
    },
    "tags": []
   },
   "source": [
    "# Encoding Categorical Data"
   ]
  },
  {
   "cell_type": "code",
   "execution_count": 29,
   "id": "5f2fc914",
   "metadata": {},
   "outputs": [
    {
     "data": {
      "text/plain": [
       "{1, 2, 3}"
      ]
     },
     "execution_count": 29,
     "metadata": {},
     "output_type": "execute_result"
    }
   ],
   "source": [
    "set(X[:,0])"
   ]
  },
  {
   "cell_type": "code",
   "execution_count": 30,
   "id": "4909d3fe",
   "metadata": {
    "execution": {
     "iopub.execute_input": "2022-10-06T21:25:58.745575Z",
     "iopub.status.busy": "2022-10-06T21:25:58.744202Z",
     "iopub.status.idle": "2022-10-06T21:25:58.762224Z",
     "shell.execute_reply": "2022-10-06T21:25:58.760215Z"
    },
    "papermill": {
     "duration": 0.048031,
     "end_time": "2022-10-06T21:25:58.765797",
     "exception": false,
     "start_time": "2022-10-06T21:25:58.717766",
     "status": "completed"
    },
    "tags": []
   },
   "outputs": [
    {
     "name": "stdout",
     "output_type": "stream",
     "text": [
      "[[0.0 0.0 1.0 3 'male' 22.0 1 0 7.25 1]\n",
      " [1.0 0.0 0.0 1 'female' 38.0 1 0 71.2833 1]\n",
      " [0.0 0.0 1.0 3 'female' 26.0 0 0 7.925 0]\n",
      " [0.0 0.0 1.0 1 'female' 35.0 1 0 53.1 1]\n",
      " [0.0 0.0 1.0 3 'male' 35.0 0 0 8.05 0]\n",
      " [0.0 1.0 0.0 3 'male' 29.881137667304014 0 0 8.4583 0]]\n"
     ]
    }
   ],
   "source": [
    "from sklearn.compose import ColumnTransformer\n",
    "from sklearn.preprocessing import OneHotEncoder \n",
    "ct=ColumnTransformer(transformers=[('encoder',OneHotEncoder(),[6])],remainder='passthrough')\n",
    "X=np.array(ct.fit_transform(X))\n",
    "\n",
    "print(X[:6,:])"
   ]
  },
  {
   "cell_type": "code",
   "execution_count": 31,
   "id": "0858244d",
   "metadata": {
    "execution": {
     "iopub.execute_input": "2022-10-06T21:25:58.814771Z",
     "iopub.status.busy": "2022-10-06T21:25:58.814269Z",
     "iopub.status.idle": "2022-10-06T21:25:58.822295Z",
     "shell.execute_reply": "2022-10-06T21:25:58.819842Z"
    },
    "papermill": {
     "duration": 0.035276,
     "end_time": "2022-10-06T21:25:58.825091",
     "exception": false,
     "start_time": "2022-10-06T21:25:58.789815",
     "status": "completed"
    },
    "tags": []
   },
   "outputs": [
    {
     "name": "stdout",
     "output_type": "stream",
     "text": [
      "[[0.0 0.0 1.0 3 1 22.0 1 0 7.25 1]\n",
      " [1.0 0.0 0.0 1 0 38.0 1 0 71.2833 1]\n",
      " [0.0 0.0 1.0 3 0 26.0 0 0 7.925 0]\n",
      " [0.0 0.0 1.0 1 0 35.0 1 0 53.1 1]\n",
      " [0.0 0.0 1.0 3 1 35.0 0 0 8.05 0]\n",
      " [0.0 1.0 0.0 3 1 29.881137667304014 0 0 8.4583 0]]\n",
      "\n"
     ]
    }
   ],
   "source": [
    "from sklearn.preprocessing import LabelEncoder\n",
    "le=LabelEncoder()\n",
    "X[:,4]=le.fit_transform(X[:,4])\n",
    "print(X[:6,:])\n",
    "print(\"\")"
   ]
  },
  {
   "cell_type": "markdown",
   "id": "4ef95031",
   "metadata": {
    "papermill": {
     "duration": 0.022569,
     "end_time": "2022-10-06T21:25:58.872272",
     "exception": false,
     "start_time": "2022-10-06T21:25:58.849703",
     "status": "completed"
    },
    "tags": []
   },
   "source": [
    "# Getting back Train data and Test data"
   ]
  },
  {
   "cell_type": "code",
   "execution_count": 32,
   "id": "5d9fff0f",
   "metadata": {
    "execution": {
     "iopub.execute_input": "2022-10-06T21:25:58.919828Z",
     "iopub.status.busy": "2022-10-06T21:25:58.918711Z",
     "iopub.status.idle": "2022-10-06T21:25:58.924273Z",
     "shell.execute_reply": "2022-10-06T21:25:58.923404Z"
    },
    "papermill": {
     "duration": 0.031103,
     "end_time": "2022-10-06T21:25:58.925920",
     "exception": false,
     "start_time": "2022-10-06T21:25:58.894817",
     "status": "completed"
    },
    "tags": []
   },
   "outputs": [
    {
     "name": "stdout",
     "output_type": "stream",
     "text": [
      "(891, 10) (418, 10)\n"
     ]
    }
   ],
   "source": [
    "test_data=X[891:]\n",
    "X=X[:891]\n",
    "print(X.shape,test_data.shape)"
   ]
  },
  {
   "cell_type": "code",
   "execution_count": 33,
   "id": "846fa2b0",
   "metadata": {
    "execution": {
     "iopub.execute_input": "2022-10-06T21:25:58.974711Z",
     "iopub.status.busy": "2022-10-06T21:25:58.972802Z",
     "iopub.status.idle": "2022-10-06T21:25:58.980167Z",
     "shell.execute_reply": "2022-10-06T21:25:58.978897Z"
    },
    "papermill": {
     "duration": 0.0347,
     "end_time": "2022-10-06T21:25:58.983178",
     "exception": false,
     "start_time": "2022-10-06T21:25:58.948478",
     "status": "completed"
    },
    "tags": []
   },
   "outputs": [
    {
     "name": "stdout",
     "output_type": "stream",
     "text": [
      "[[0.0 1.0 0.0 3 1 34.5 0 0 7.8292 0]\n",
      " [0.0 0.0 1.0 3 0 47.0 1 0 7.0 1]\n",
      " [0.0 1.0 0.0 2 1 62.0 0 0 9.6875 0]\n",
      " [0.0 0.0 1.0 3 1 27.0 0 0 8.6625 0]\n",
      " [0.0 0.0 1.0 3 0 22.0 1 1 12.2875 2]\n",
      " [0.0 0.0 1.0 3 1 14.0 0 0 9.225 0]]\n"
     ]
    }
   ],
   "source": [
    "print(test_data[:6])"
   ]
  },
  {
   "cell_type": "markdown",
   "id": "bcf5bb33",
   "metadata": {
    "papermill": {
     "duration": 0.023145,
     "end_time": "2022-10-06T21:25:59.029961",
     "exception": false,
     "start_time": "2022-10-06T21:25:59.006816",
     "status": "completed"
    },
    "tags": []
   },
   "source": [
    "# Splitting the Data"
   ]
  },
  {
   "cell_type": "code",
   "execution_count": 34,
   "id": "ad8aa6e7",
   "metadata": {
    "execution": {
     "iopub.execute_input": "2022-10-06T21:25:59.077966Z",
     "iopub.status.busy": "2022-10-06T21:25:59.077633Z",
     "iopub.status.idle": "2022-10-06T21:25:59.083841Z",
     "shell.execute_reply": "2022-10-06T21:25:59.082532Z"
    },
    "papermill": {
     "duration": 0.032349,
     "end_time": "2022-10-06T21:25:59.085986",
     "exception": false,
     "start_time": "2022-10-06T21:25:59.053637",
     "status": "completed"
    },
    "tags": []
   },
   "outputs": [],
   "source": [
    "from sklearn.model_selection import train_test_split\n",
    "x_train,x_test,y_train,y_test=train_test_split(X,y,test_size=0.25,random_state=1)"
   ]
  },
  {
   "cell_type": "code",
   "execution_count": 35,
   "id": "19a76433",
   "metadata": {
    "execution": {
     "iopub.execute_input": "2022-10-06T21:25:59.134479Z",
     "iopub.status.busy": "2022-10-06T21:25:59.134116Z",
     "iopub.status.idle": "2022-10-06T21:25:59.140126Z",
     "shell.execute_reply": "2022-10-06T21:25:59.138160Z"
    },
    "papermill": {
     "duration": 0.032828,
     "end_time": "2022-10-06T21:25:59.142218",
     "exception": false,
     "start_time": "2022-10-06T21:25:59.109390",
     "status": "completed"
    },
    "tags": []
   },
   "outputs": [
    {
     "name": "stdout",
     "output_type": "stream",
     "text": [
      "[[0.0 0.0 1.0 1 1 42.0 1 0 52.0 1]\n",
      " [0.0 1.0 0.0 3 1 29.881137667304014 1 0 15.5 1]\n",
      " [1.0 0.0 0.0 1 1 49.0 1 0 89.1042 1]\n",
      " [1.0 0.0 0.0 1 0 19.0 1 0 91.0792 1]\n",
      " [0.0 0.0 1.0 1 1 19.0 1 0 53.1 1]\n",
      " [0.0 0.0 1.0 2 0 27.0 1 0 21.0 1]]\n"
     ]
    }
   ],
   "source": [
    "print(x_train[:6])"
   ]
  },
  {
   "cell_type": "code",
   "execution_count": 36,
   "id": "c6c4d61f",
   "metadata": {
    "execution": {
     "iopub.execute_input": "2022-10-06T21:25:59.191659Z",
     "iopub.status.busy": "2022-10-06T21:25:59.191273Z",
     "iopub.status.idle": "2022-10-06T21:25:59.197096Z",
     "shell.execute_reply": "2022-10-06T21:25:59.195998Z"
    },
    "papermill": {
     "duration": 0.033467,
     "end_time": "2022-10-06T21:25:59.199195",
     "exception": false,
     "start_time": "2022-10-06T21:25:59.165728",
     "status": "completed"
    },
    "tags": []
   },
   "outputs": [
    {
     "name": "stdout",
     "output_type": "stream",
     "text": [
      "[[0.0 0.0 1.0 1 0 48.0 0 0 25.9292 0]\n",
      " [0.0 0.0 1.0 3 1 29.881137667304014 0 0 7.8958 0]\n",
      " [0.0 0.0 1.0 2 0 17.0 0 0 10.5 0]\n",
      " [0.0 1.0 0.0 3 0 29.881137667304014 0 0 8.1375 0]\n",
      " [0.0 0.0 1.0 2 0 7.0 0 2 26.25 2]\n",
      " [0.0 0.0 1.0 3 1 21.0 0 0 7.8542 0]]\n"
     ]
    }
   ],
   "source": [
    "print(x_test[:6])"
   ]
  },
  {
   "cell_type": "code",
   "execution_count": 37,
   "id": "d50af7ed",
   "metadata": {
    "execution": {
     "iopub.execute_input": "2022-10-06T21:25:59.247753Z",
     "iopub.status.busy": "2022-10-06T21:25:59.247420Z",
     "iopub.status.idle": "2022-10-06T21:25:59.253115Z",
     "shell.execute_reply": "2022-10-06T21:25:59.251363Z"
    },
    "papermill": {
     "duration": 0.033002,
     "end_time": "2022-10-06T21:25:59.255558",
     "exception": false,
     "start_time": "2022-10-06T21:25:59.222556",
     "status": "completed"
    },
    "tags": []
   },
   "outputs": [
    {
     "name": "stdout",
     "output_type": "stream",
     "text": [
      "[0 0 1 1 0 0]\n"
     ]
    }
   ],
   "source": [
    "print(y_train[:6])"
   ]
  },
  {
   "cell_type": "code",
   "execution_count": 38,
   "id": "eeaeb88b",
   "metadata": {
    "execution": {
     "iopub.execute_input": "2022-10-06T21:25:59.306646Z",
     "iopub.status.busy": "2022-10-06T21:25:59.306304Z",
     "iopub.status.idle": "2022-10-06T21:25:59.312486Z",
     "shell.execute_reply": "2022-10-06T21:25:59.311205Z"
    },
    "papermill": {
     "duration": 0.034978,
     "end_time": "2022-10-06T21:25:59.315309",
     "exception": false,
     "start_time": "2022-10-06T21:25:59.280331",
     "status": "completed"
    },
    "tags": []
   },
   "outputs": [
    {
     "name": "stdout",
     "output_type": "stream",
     "text": [
      "[1 0 1 0 1 0]\n"
     ]
    }
   ],
   "source": [
    "print(y_test[:6])"
   ]
  },
  {
   "cell_type": "code",
   "execution_count": 39,
   "id": "d0aba45e",
   "metadata": {
    "execution": {
     "iopub.execute_input": "2022-10-06T21:25:59.363700Z",
     "iopub.status.busy": "2022-10-06T21:25:59.363391Z",
     "iopub.status.idle": "2022-10-06T21:25:59.368791Z",
     "shell.execute_reply": "2022-10-06T21:25:59.367672Z"
    },
    "papermill": {
     "duration": 0.03226,
     "end_time": "2022-10-06T21:25:59.371094",
     "exception": false,
     "start_time": "2022-10-06T21:25:59.338834",
     "status": "completed"
    },
    "tags": []
   },
   "outputs": [
    {
     "name": "stdout",
     "output_type": "stream",
     "text": [
      "(668, 10) (223, 10) (668,) (223,)\n"
     ]
    }
   ],
   "source": [
    "print(x_train.shape,x_test.shape, y_train.shape, y_test.shape)"
   ]
  },
  {
   "cell_type": "markdown",
   "id": "1dbbcf04",
   "metadata": {
    "papermill": {
     "duration": 0.023899,
     "end_time": "2022-10-06T21:25:59.418820",
     "exception": false,
     "start_time": "2022-10-06T21:25:59.394921",
     "status": "completed"
    },
    "tags": []
   },
   "source": [
    "# Feature Scaling"
   ]
  },
  {
   "cell_type": "code",
   "execution_count": 40,
   "id": "1eb71b01",
   "metadata": {
    "execution": {
     "iopub.execute_input": "2022-10-06T21:25:59.467503Z",
     "iopub.status.busy": "2022-10-06T21:25:59.467132Z",
     "iopub.status.idle": "2022-10-06T21:25:59.477927Z",
     "shell.execute_reply": "2022-10-06T21:25:59.476113Z"
    },
    "papermill": {
     "duration": 0.038451,
     "end_time": "2022-10-06T21:25:59.480428",
     "exception": false,
     "start_time": "2022-10-06T21:25:59.441977",
     "status": "completed"
    },
    "tags": []
   },
   "outputs": [],
   "source": [
    "from sklearn.preprocessing import StandardScaler\n",
    "sc=StandardScaler()\n",
    "x_train[:,3:]=sc.fit_transform(x_train[:,3:])\n",
    "x_test[:,3:]=sc.transform(x_test[:,3:])\n",
    "test_data[:,3:]=sc.transform(test_data[:,3:])"
   ]
  },
  {
   "cell_type": "code",
   "execution_count": 41,
   "id": "d40f75d1",
   "metadata": {
    "execution": {
     "iopub.execute_input": "2022-10-06T21:25:59.528666Z",
     "iopub.status.busy": "2022-10-06T21:25:59.528313Z",
     "iopub.status.idle": "2022-10-06T21:25:59.535625Z",
     "shell.execute_reply": "2022-10-06T21:25:59.533609Z"
    },
    "papermill": {
     "duration": 0.035204,
     "end_time": "2022-10-06T21:25:59.538933",
     "exception": false,
     "start_time": "2022-10-06T21:25:59.503729",
     "status": "completed"
    },
    "tags": []
   },
   "outputs": [
    {
     "name": "stdout",
     "output_type": "stream",
     "text": [
      "[[0.0 0.0 1.0 -1.5932633446827085 0.7318689663512504 0.9040165883511864\n",
      "  0.49236868939066036 -0.4868644955601508 0.44426438339827423\n",
      "  0.07784755093219665]\n",
      " [0.0 1.0 0.0 0.8173819877024538 0.7318689663512504 -0.011651581396073035\n",
      "  0.49236868939066036 -0.4868644955601508 -0.3495136383493248\n",
      "  0.07784755093219665]\n",
      " [1.0 0.0 0.0 -1.5932633446827085 0.7318689663512504 1.4329174878141566\n",
      "  0.49236868939066036 -0.4868644955601508 1.2511821498236788\n",
      "  0.07784755093219665]\n",
      " [1.0 0.0 0.0 -1.5932633446827085 -1.3663648084240088 -0.8338006527414299\n",
      "  0.49236868939066036 -0.4868644955601508 1.2941331523702955\n",
      "  0.07784755093219665]\n",
      " [0.0 0.0 1.0 -1.5932633446827085 0.7318689663512504 -0.8338006527414299\n",
      "  0.49236868939066036 -0.4868644955601508 0.46818646076601017\n",
      "  0.07784755093219665]\n",
      " [0.0 0.0 1.0 -0.3879406784901273 -1.3663648084240088\n",
      "  -0.22934248192660683 0.49236868939066036 -0.4868644955601508\n",
      "  -0.2299032515106455 0.07784755093219665]]\n"
     ]
    }
   ],
   "source": [
    "print(x_train[:6])"
   ]
  },
  {
   "cell_type": "code",
   "execution_count": 42,
   "id": "209f6b09",
   "metadata": {
    "execution": {
     "iopub.execute_input": "2022-10-06T21:25:59.587573Z",
     "iopub.status.busy": "2022-10-06T21:25:59.587223Z",
     "iopub.status.idle": "2022-10-06T21:25:59.592748Z",
     "shell.execute_reply": "2022-10-06T21:25:59.591224Z"
    },
    "papermill": {
     "duration": 0.031906,
     "end_time": "2022-10-06T21:25:59.594985",
     "exception": false,
     "start_time": "2022-10-06T21:25:59.563079",
     "status": "completed"
    },
    "tags": []
   },
   "outputs": [
    {
     "name": "stdout",
     "output_type": "stream",
     "text": [
      "[[0.0 0.0 1.0 -1.5932633446827085 -1.3663648084240088 1.3573602164623038\n",
      "  -0.48942917482713405 -0.4868644955601508 -0.12270624809151491\n",
      "  -0.5804076898615677]\n",
      " [0.0 0.0 1.0 0.8173819877024538 0.7318689663512504 -0.011651581396073035\n",
      "  -0.48942917482713405 -0.4868644955601508 -0.5148847844581766\n",
      "  -0.5804076898615677]\n",
      " [0.0 0.0 1.0 -0.3879406784901273 -1.3663648084240088 -0.9849151954451356\n",
      "  -0.48942917482713405 -0.4868644955601508 -0.4582503536572151\n",
      "  -0.5804076898615677]\n",
      " [0.0 1.0 0.0 0.8173819877024538 -1.3663648084240088\n",
      "  -0.011651581396073035 -0.48942917482713405 -0.4868644955601508\n",
      "  -0.5096284516401932 -0.5804076898615677]\n",
      " [0.0 0.0 1.0 -0.3879406784901273 -1.3663648084240088 -1.7404879089636645\n",
      "  -0.48942917482713405 2.053959590644386 -0.1157297004373607\n",
      "  0.736102791725961]\n",
      " [0.0 0.0 1.0 0.8173819877024538 0.7318689663512504 -0.6826861100377242\n",
      "  -0.48942917482713405 -0.4868644955601508 -0.5157894739295383\n",
      "  -0.5804076898615677]]\n"
     ]
    }
   ],
   "source": [
    "print(x_test[:6])"
   ]
  },
  {
   "cell_type": "markdown",
   "id": "29b4f168",
   "metadata": {
    "papermill": {
     "duration": 0.023108,
     "end_time": "2022-10-06T21:26:00.286395",
     "exception": false,
     "start_time": "2022-10-06T21:26:00.263287",
     "status": "completed"
    },
    "tags": []
   },
   "source": [
    "# Confusion Matrix"
   ]
  },
  {
   "cell_type": "code",
   "execution_count": 43,
   "id": "ec8a5806",
   "metadata": {
    "execution": {
     "iopub.execute_input": "2022-10-06T21:26:00.335949Z",
     "iopub.status.busy": "2022-10-06T21:26:00.335645Z",
     "iopub.status.idle": "2022-10-06T21:26:00.342601Z",
     "shell.execute_reply": "2022-10-06T21:26:00.340532Z"
    },
    "papermill": {
     "duration": 0.034624,
     "end_time": "2022-10-06T21:26:00.345121",
     "exception": false,
     "start_time": "2022-10-06T21:26:00.310497",
     "status": "completed"
    },
    "tags": []
   },
   "outputs": [],
   "source": [
    "best_Acc={\n",
    "    \n",
    "    }\n",
    "def Confusion_Matrix(y_pred,name):\n",
    "    cm=confusion_matrix(y_test,y_pred)\n",
    "    print(cm)\n",
    "    print(\"\")\n",
    "    print(\"Sum of Wrong predictions\",cm[0,1]+cm[1,0])\n",
    "    print(\"Accuracy of the model: \",accuracy_score(y_test,y_pred))\n",
    "    print(\"Precision: \",cm[1,1]/(cm[1,1]+cm[0,1]))\n",
    "    print(\"Recall: \",cm[1,1]/(cm[1,1]+cm[1,0]))\n",
    "    best_Acc[name]=accuracy_score(y_test,y_pred)\n",
    "    "
   ]
  },
  {
   "cell_type": "markdown",
   "id": "b3639db4",
   "metadata": {
    "papermill": {
     "duration": 0.023603,
     "end_time": "2022-10-06T21:26:00.392727",
     "exception": false,
     "start_time": "2022-10-06T21:26:00.369124",
     "status": "completed"
    },
    "tags": []
   },
   "source": [
    "# Checking the Overfitting"
   ]
  },
  {
   "cell_type": "code",
   "execution_count": 44,
   "id": "d5d6a97d",
   "metadata": {
    "execution": {
     "iopub.execute_input": "2022-10-06T21:26:00.442647Z",
     "iopub.status.busy": "2022-10-06T21:26:00.442286Z",
     "iopub.status.idle": "2022-10-06T21:26:00.448819Z",
     "shell.execute_reply": "2022-10-06T21:26:00.446615Z"
    },
    "papermill": {
     "duration": 0.034691,
     "end_time": "2022-10-06T21:26:00.451484",
     "exception": false,
     "start_time": "2022-10-06T21:26:00.416793",
     "status": "completed"
    },
    "tags": []
   },
   "outputs": [],
   "source": [
    "def check_Overfitting(yhat_test,model):\n",
    "    yhat_train=model.predict(x_train)\n",
    "    return accuracy_score(y_train,yhat_train),accuracy_score(y_test,yhat_test)"
   ]
  },
  {
   "cell_type": "markdown",
   "id": "895f4376",
   "metadata": {
    "papermill": {
     "duration": 0.024665,
     "end_time": "2022-10-06T21:26:00.500819",
     "exception": false,
     "start_time": "2022-10-06T21:26:00.476154",
     "status": "completed"
    },
    "tags": []
   },
   "source": [
    "# Logistic Regression"
   ]
  },
  {
   "cell_type": "code",
   "execution_count": 45,
   "id": "6bc92c45",
   "metadata": {
    "execution": {
     "iopub.execute_input": "2022-10-06T21:26:00.549884Z",
     "iopub.status.busy": "2022-10-06T21:26:00.549561Z",
     "iopub.status.idle": "2022-10-06T21:26:00.808206Z",
     "shell.execute_reply": "2022-10-06T21:26:00.806402Z"
    },
    "papermill": {
     "duration": 0.286579,
     "end_time": "2022-10-06T21:26:00.811015",
     "exception": false,
     "start_time": "2022-10-06T21:26:00.524436",
     "status": "completed"
    },
    "tags": []
   },
   "outputs": [
    {
     "data": {
      "text/plain": [
       "LogisticRegression()"
      ]
     },
     "execution_count": 45,
     "metadata": {},
     "output_type": "execute_result"
    }
   ],
   "source": [
    "from sklearn.linear_model import LogisticRegression\n",
    "classifier=LogisticRegression()\n",
    "\n",
    "classifier.fit(x_train,y_train)"
   ]
  },
  {
   "cell_type": "code",
   "execution_count": 46,
   "id": "21ce5b6a",
   "metadata": {
    "execution": {
     "iopub.execute_input": "2022-10-06T21:26:00.861547Z",
     "iopub.status.busy": "2022-10-06T21:26:00.861211Z",
     "iopub.status.idle": "2022-10-06T21:26:00.868200Z",
     "shell.execute_reply": "2022-10-06T21:26:00.866748Z"
    },
    "papermill": {
     "duration": 0.034927,
     "end_time": "2022-10-06T21:26:00.871164",
     "exception": false,
     "start_time": "2022-10-06T21:26:00.836237",
     "status": "completed"
    },
    "tags": []
   },
   "outputs": [],
   "source": [
    "y_pred=classifier.predict(x_test)\n",
    "Overfitting={\n",
    "    \"train_Log,test_log\":check_Overfitting(y_pred,classifier)\n",
    "}\n",
    "y_pred_TD_LogR=classifier.predict(test_data)"
   ]
  },
  {
   "cell_type": "code",
   "execution_count": 47,
   "id": "2fa3a7bd",
   "metadata": {},
   "outputs": [
    {
     "data": {
      "text/plain": [
       "{'train_Log,test_log': (0.8083832335329342, 0.7937219730941704)}"
      ]
     },
     "execution_count": 47,
     "metadata": {},
     "output_type": "execute_result"
    }
   ],
   "source": [
    "Overfitting"
   ]
  },
  {
   "cell_type": "code",
   "execution_count": 48,
   "id": "4e9f1204",
   "metadata": {
    "execution": {
     "iopub.execute_input": "2022-10-06T21:26:00.924128Z",
     "iopub.status.busy": "2022-10-06T21:26:00.923739Z",
     "iopub.status.idle": "2022-10-06T21:26:00.931828Z",
     "shell.execute_reply": "2022-10-06T21:26:00.930154Z"
    },
    "papermill": {
     "duration": 0.037848,
     "end_time": "2022-10-06T21:26:00.934136",
     "exception": false,
     "start_time": "2022-10-06T21:26:00.896288",
     "status": "completed"
    },
    "tags": []
   },
   "outputs": [
    {
     "name": "stdout",
     "output_type": "stream",
     "text": [
      "[[1 1]\n",
      " [0 0]\n",
      " [1 1]\n",
      " [1 0]\n",
      " [1 1]\n",
      " [0 0]\n",
      " [0 0]\n",
      " [1 1]\n",
      " [1 0]\n",
      " [1 1]\n",
      " [0 0]\n",
      " [1 1]\n",
      " [0 0]\n",
      " [0 1]\n",
      " [1 1]\n",
      " [0 1]\n",
      " [0 0]\n",
      " [0 0]\n",
      " [0 0]\n",
      " [1 1]]\n"
     ]
    }
   ],
   "source": [
    "print((np.concatenate((y_pred.reshape(len(y_pred),1),y_test.reshape(len(y_test),1)),1))[:20])"
   ]
  },
  {
   "cell_type": "code",
   "execution_count": 49,
   "id": "65be7088",
   "metadata": {
    "execution": {
     "iopub.execute_input": "2022-10-06T21:26:00.982942Z",
     "iopub.status.busy": "2022-10-06T21:26:00.982442Z",
     "iopub.status.idle": "2022-10-06T21:26:00.987267Z",
     "shell.execute_reply": "2022-10-06T21:26:00.986716Z"
    },
    "papermill": {
     "duration": 0.031714,
     "end_time": "2022-10-06T21:26:00.989417",
     "exception": false,
     "start_time": "2022-10-06T21:26:00.957703",
     "status": "completed"
    },
    "tags": []
   },
   "outputs": [
    {
     "name": "stdout",
     "output_type": "stream",
     "text": [
      "[[111  17]\n",
      " [ 29  66]]\n",
      "\n",
      "Sum of Wrong predictions 46\n",
      "Accuracy of the model:  0.7937219730941704\n",
      "Precision:  0.7951807228915663\n",
      "Recall:  0.6947368421052632\n"
     ]
    }
   ],
   "source": [
    "Confusion_Matrix(y_pred,\"Logistic Regression\")"
   ]
  },
  {
   "cell_type": "code",
   "execution_count": 50,
   "id": "18bf750a",
   "metadata": {},
   "outputs": [],
   "source": [
    "from sklearn.metrics import plot_confusion_matrix"
   ]
  },
  {
   "cell_type": "code",
   "execution_count": 51,
   "id": "900a2f1c",
   "metadata": {},
   "outputs": [
    {
     "name": "stderr",
     "output_type": "stream",
     "text": [
      "C:\\Users\\disha\\anaconda3\\lib\\site-packages\\sklearn\\utils\\deprecation.py:87: FutureWarning: Function plot_confusion_matrix is deprecated; Function `plot_confusion_matrix` is deprecated in 1.0 and will be removed in 1.2. Use one of the class methods: ConfusionMatrixDisplay.from_predictions or ConfusionMatrixDisplay.from_estimator.\n",
      "  warnings.warn(msg, category=FutureWarning)\n"
     ]
    },
    {
     "data": {
      "text/plain": [
       "<sklearn.metrics._plot.confusion_matrix.ConfusionMatrixDisplay at 0x13be8257a60>"
      ]
     },
     "execution_count": 51,
     "metadata": {},
     "output_type": "execute_result"
    },
    {
     "data": {
      "image/png": "[encoded data removed]",
      "text/plain": [
       "<Figure size 432x288 with 2 Axes>"
      ]
     },
     "metadata": {
      "needs_background": "light"
     },
     "output_type": "display_data"
    }
   ],
   "source": [
    "plot_confusion_matrix(classifier,x_test,y_test)"
   ]
  },
  {
   "cell_type": "code",
   "execution_count": 52,
   "id": "9e2c2ecd",
   "metadata": {},
   "outputs": [
    {
     "data": {
      "text/plain": [
       "array([[0.0, 1.0, 0.0, ..., -0.4868644955601508, -0.5163331575060778,\n",
       "        -0.5804076898615677],\n",
       "       [0.0, 0.0, 1.0, ..., -0.4868644955601508, -0.5343660543727383,\n",
       "        0.07784755093219665],\n",
       "       [0.0, 1.0, 0.0, ..., -0.4868644955601508, -0.4759200698947473,\n",
       "        -0.5804076898615677],\n",
       "       ...,\n",
       "       [0.0, 0.0, 1.0, ..., -0.4868644955601508, -0.5289292186073438,\n",
       "        -0.5804076898615677],\n",
       "       [0.0, 0.0, 1.0, ..., -0.4868644955601508, -0.5115313441580813,\n",
       "        -0.5804076898615677],\n",
       "       [1.0, 0.0, 0.0, ..., 0.7835475475421176, -0.20036383543010403,\n",
       "        0.736102791725961]], dtype=object)"
      ]
     },
     "execution_count": 52,
     "metadata": {},
     "output_type": "execute_result"
    }
   ],
   "source": [
    "test_data"
   ]
  },
  {
   "cell_type": "code",
   "execution_count": 53,
   "id": "b838e574",
   "metadata": {},
   "outputs": [
    {
     "data": {
      "text/plain": [
       "array([0, 0, 0, 0, 1, 0, 1, 0, 1, 0, 0, 0, 1, 0, 1, 1, 0, 0, 0, 1, 0, 0,\n",
       "       1, 1, 1, 0, 1, 0, 0, 0, 0, 0, 0, 0, 1, 0, 1, 1, 0, 0, 0, 0, 0, 1,\n",
       "       1, 0, 0, 0, 1, 1, 0, 0, 1, 1, 0, 0, 0, 0, 0, 1, 0, 0, 0, 1, 1, 1,\n",
       "       1, 0, 1, 1, 1, 0, 1, 1, 1, 1, 0, 1, 0, 1, 0, 0, 0, 0, 0, 0, 1, 1,\n",
       "       1, 0, 1, 0, 1, 0, 1, 0, 1, 0, 1, 0, 1, 0, 0, 0, 1, 0, 0, 0, 0, 0,\n",
       "       0, 1, 1, 1, 1, 0, 0, 1, 1, 1, 1, 0, 1, 0, 0, 1, 0, 0, 0, 0, 0, 0,\n",
       "       1, 0, 0, 0, 0, 0, 1, 0, 0, 1, 0, 0, 0, 0, 0, 0, 0, 0, 1, 0, 0, 1,\n",
       "       0, 0, 1, 1, 0, 1, 1, 0, 1, 0, 0, 1, 0, 0, 1, 1, 0, 0, 0, 0, 0, 1,\n",
       "       1, 0, 1, 1, 0, 0, 1, 0, 1, 0, 1, 0, 0, 0, 0, 0, 0, 0, 0, 0, 1, 1,\n",
       "       0, 1, 1, 0, 0, 1, 0, 1, 1, 0, 1, 0, 0, 0, 0, 0, 0, 0, 1, 0, 1, 0,\n",
       "       1, 0, 1, 0, 1, 1, 0, 1, 0, 0, 0, 1, 0, 0, 0, 0, 0, 0, 1, 1, 1, 1,\n",
       "       0, 0, 0, 0, 1, 0, 1, 1, 1, 0, 1, 0, 0, 0, 0, 0, 1, 0, 0, 0, 1, 1,\n",
       "       0, 0, 0, 0, 1, 0, 0, 0, 1, 1, 0, 1, 0, 0, 0, 0, 1, 0, 1, 1, 1, 0,\n",
       "       0, 0, 0, 0, 0, 1, 0, 0, 0, 0, 1, 0, 0, 0, 0, 0, 0, 0, 1, 1, 0, 0,\n",
       "       0, 0, 0, 0, 0, 1, 1, 1, 0, 0, 0, 0, 0, 0, 0, 0, 1, 0, 1, 0, 0, 0,\n",
       "       1, 1, 0, 1, 0, 0, 0, 0, 0, 0, 0, 0, 0, 1, 0, 1, 0, 1, 0, 1, 1, 0,\n",
       "       0, 0, 1, 0, 1, 0, 0, 0, 0, 1, 1, 0, 1, 1, 0, 1, 1, 0, 0, 1, 0, 0,\n",
       "       1, 1, 0, 0, 0, 0, 0, 0, 1, 1, 0, 1, 0, 0, 0, 0, 1, 1, 0, 0, 0, 1,\n",
       "       0, 1, 0, 0, 1, 0, 1, 1, 0, 0, 0, 0, 1, 1, 1, 1, 1, 0, 1, 0, 0, 0],\n",
       "      dtype=int64)"
      ]
     },
     "execution_count": 53,
     "metadata": {},
     "output_type": "execute_result"
    }
   ],
   "source": [
    "Y_predictions=classifier.predict(test_data)\n",
    "Y_predictions"
   ]
  },
  {
   "cell_type": "code",
   "execution_count": 54,
   "id": "2b426371",
   "metadata": {},
   "outputs": [],
   "source": [
    "raw_test_data=pd.read_csv('titanic_test.csv')"
   ]
  },
  {
   "cell_type": "code",
   "execution_count": 55,
   "id": "457b9b38",
   "metadata": {},
   "outputs": [
    {
     "data": {
      "text/html": [
       "<div>\n",
       "<style scoped>\n",
       "    .dataframe tbody tr th:only-of-type {\n",
       "        vertical-align: middle;\n",
       "    }\n",
       "\n",
       "    .dataframe tbody tr th {\n",
       "        vertical-align: top;\n",
       "    }\n",
       "\n",
       "    .dataframe thead th {\n",
       "        text-align: right;\n",
       "    }\n",
       "</style>\n",
       "<table border=\"1\" class=\"dataframe\">\n",
       "  <thead>\n",
       "    <tr style=\"text-align: right;\">\n",
       "      <th></th>\n",
       "      <th>PassengerId</th>\n",
       "      <th>Pclass</th>\n",
       "      <th>Name</th>\n",
       "      <th>Sex</th>\n",
       "      <th>Age</th>\n",
       "      <th>SibSp</th>\n",
       "      <th>Parch</th>\n",
       "      <th>Ticket</th>\n",
       "      <th>Fare</th>\n",
       "      <th>Cabin</th>\n",
       "      <th>Embarked</th>\n",
       "    </tr>\n",
       "  </thead>\n",
       "  <tbody>\n",
       "    <tr>\n",
       "      <th>0</th>\n",
       "      <td>892</td>\n",
       "      <td>3</td>\n",
       "      <td>Kelly, Mr. James</td>\n",
       "      <td>male</td>\n",
       "      <td>34.5</td>\n",
       "      <td>0</td>\n",
       "      <td>0</td>\n",
       "      <td>330911</td>\n",
       "      <td>7.8292</td>\n",
       "      <td>NaN</td>\n",
       "      <td>Q</td>\n",
       "    </tr>\n",
       "    <tr>\n",
       "      <th>1</th>\n",
       "      <td>893</td>\n",
       "      <td>3</td>\n",
       "      <td>Wilkes, Mrs. James (Ellen Needs)</td>\n",
       "      <td>female</td>\n",
       "      <td>47.0</td>\n",
       "      <td>1</td>\n",
       "      <td>0</td>\n",
       "      <td>363272</td>\n",
       "      <td>7.0000</td>\n",
       "      <td>NaN</td>\n",
       "      <td>S</td>\n",
       "    </tr>\n",
       "    <tr>\n",
       "      <th>2</th>\n",
       "      <td>894</td>\n",
       "      <td>2</td>\n",
       "      <td>Myles, Mr. Thomas Francis</td>\n",
       "      <td>male</td>\n",
       "      <td>62.0</td>\n",
       "      <td>0</td>\n",
       "      <td>0</td>\n",
       "      <td>240276</td>\n",
       "      <td>9.6875</td>\n",
       "      <td>NaN</td>\n",
       "      <td>Q</td>\n",
       "    </tr>\n",
       "    <tr>\n",
       "      <th>3</th>\n",
       "      <td>895</td>\n",
       "      <td>3</td>\n",
       "      <td>Wirz, Mr. Albert</td>\n",
       "      <td>male</td>\n",
       "      <td>27.0</td>\n",
       "      <td>0</td>\n",
       "      <td>0</td>\n",
       "      <td>315154</td>\n",
       "      <td>8.6625</td>\n",
       "      <td>NaN</td>\n",
       "      <td>S</td>\n",
       "    </tr>\n",
       "    <tr>\n",
       "      <th>4</th>\n",
       "      <td>896</td>\n",
       "      <td>3</td>\n",
       "      <td>Hirvonen, Mrs. Alexander (Helga E Lindqvist)</td>\n",
       "      <td>female</td>\n",
       "      <td>22.0</td>\n",
       "      <td>1</td>\n",
       "      <td>1</td>\n",
       "      <td>3101298</td>\n",
       "      <td>12.2875</td>\n",
       "      <td>NaN</td>\n",
       "      <td>S</td>\n",
       "    </tr>\n",
       "  </tbody>\n",
       "</table>\n",
       "</div>"
      ],
      "text/plain": [
       "   PassengerId  Pclass                                          Name     Sex  \\\n",
       "0          892       3                              Kelly, Mr. James    male   \n",
       "1          893       3              Wilkes, Mrs. James (Ellen Needs)  female   \n",
       "2          894       2                     Myles, Mr. Thomas Francis    male   \n",
       "3          895       3                              Wirz, Mr. Albert    male   \n",
       "4          896       3  Hirvonen, Mrs. Alexander (Helga E Lindqvist)  female   \n",
       "\n",
       "    Age  SibSp  Parch   Ticket     Fare Cabin Embarked  \n",
       "0  34.5      0      0   330911   7.8292   NaN        Q  \n",
       "1  47.0      1      0   363272   7.0000   NaN        S  \n",
       "2  62.0      0      0   240276   9.6875   NaN        Q  \n",
       "3  27.0      0      0   315154   8.6625   NaN        S  \n",
       "4  22.0      1      1  3101298  12.2875   NaN        S  "
      ]
     },
     "execution_count": 55,
     "metadata": {},
     "output_type": "execute_result"
    }
   ],
   "source": [
    "raw_test_data.head()"
   ]
  },
  {
   "cell_type": "code",
   "execution_count": 56,
   "id": "630cd476",
   "metadata": {},
   "outputs": [],
   "source": [
    "raw_test_data['Survived_predictions']=Y_predictions"
   ]
  },
  {
   "cell_type": "code",
   "execution_count": 57,
   "id": "c727fc14",
   "metadata": {},
   "outputs": [
    {
     "data": {
      "text/html": [
       "<div>\n",
       "<style scoped>\n",
       "    .dataframe tbody tr th:only-of-type {\n",
       "        vertical-align: middle;\n",
       "    }\n",
       "\n",
       "    .dataframe tbody tr th {\n",
       "        vertical-align: top;\n",
       "    }\n",
       "\n",
       "    .dataframe thead th {\n",
       "        text-align: right;\n",
       "    }\n",
       "</style>\n",
       "<table border=\"1\" class=\"dataframe\">\n",
       "  <thead>\n",
       "    <tr style=\"text-align: right;\">\n",
       "      <th></th>\n",
       "      <th>PassengerId</th>\n",
       "      <th>Pclass</th>\n",
       "      <th>Name</th>\n",
       "      <th>Sex</th>\n",
       "      <th>Age</th>\n",
       "      <th>SibSp</th>\n",
       "      <th>Parch</th>\n",
       "      <th>Ticket</th>\n",
       "      <th>Fare</th>\n",
       "      <th>Cabin</th>\n",
       "      <th>Embarked</th>\n",
       "      <th>Survived_predictions</th>\n",
       "    </tr>\n",
       "  </thead>\n",
       "  <tbody>\n",
       "    <tr>\n",
       "      <th>0</th>\n",
       "      <td>892</td>\n",
       "      <td>3</td>\n",
       "      <td>Kelly, Mr. James</td>\n",
       "      <td>male</td>\n",
       "      <td>34.5</td>\n",
       "      <td>0</td>\n",
       "      <td>0</td>\n",
       "      <td>330911</td>\n",
       "      <td>7.8292</td>\n",
       "      <td>NaN</td>\n",
       "      <td>Q</td>\n",
       "      <td>0</td>\n",
       "    </tr>\n",
       "    <tr>\n",
       "      <th>1</th>\n",
       "      <td>893</td>\n",
       "      <td>3</td>\n",
       "      <td>Wilkes, Mrs. James (Ellen Needs)</td>\n",
       "      <td>female</td>\n",
       "      <td>47.0</td>\n",
       "      <td>1</td>\n",
       "      <td>0</td>\n",
       "      <td>363272</td>\n",
       "      <td>7.0000</td>\n",
       "      <td>NaN</td>\n",
       "      <td>S</td>\n",
       "      <td>0</td>\n",
       "    </tr>\n",
       "    <tr>\n",
       "      <th>2</th>\n",
       "      <td>894</td>\n",
       "      <td>2</td>\n",
       "      <td>Myles, Mr. Thomas Francis</td>\n",
       "      <td>male</td>\n",
       "      <td>62.0</td>\n",
       "      <td>0</td>\n",
       "      <td>0</td>\n",
       "      <td>240276</td>\n",
       "      <td>9.6875</td>\n",
       "      <td>NaN</td>\n",
       "      <td>Q</td>\n",
       "      <td>0</td>\n",
       "    </tr>\n",
       "    <tr>\n",
       "      <th>3</th>\n",
       "      <td>895</td>\n",
       "      <td>3</td>\n",
       "      <td>Wirz, Mr. Albert</td>\n",
       "      <td>male</td>\n",
       "      <td>27.0</td>\n",
       "      <td>0</td>\n",
       "      <td>0</td>\n",
       "      <td>315154</td>\n",
       "      <td>8.6625</td>\n",
       "      <td>NaN</td>\n",
       "      <td>S</td>\n",
       "      <td>0</td>\n",
       "    </tr>\n",
       "    <tr>\n",
       "      <th>4</th>\n",
       "      <td>896</td>\n",
       "      <td>3</td>\n",
       "      <td>Hirvonen, Mrs. Alexander (Helga E Lindqvist)</td>\n",
       "      <td>female</td>\n",
       "      <td>22.0</td>\n",
       "      <td>1</td>\n",
       "      <td>1</td>\n",
       "      <td>3101298</td>\n",
       "      <td>12.2875</td>\n",
       "      <td>NaN</td>\n",
       "      <td>S</td>\n",
       "      <td>1</td>\n",
       "    </tr>\n",
       "  </tbody>\n",
       "</table>\n",
       "</div>"
      ],
      "text/plain": [
       "   PassengerId  Pclass                                          Name     Sex  \\\n",
       "0          892       3                              Kelly, Mr. James    male   \n",
       "1          893       3              Wilkes, Mrs. James (Ellen Needs)  female   \n",
       "2          894       2                     Myles, Mr. Thomas Francis    male   \n",
       "3          895       3                              Wirz, Mr. Albert    male   \n",
       "4          896       3  Hirvonen, Mrs. Alexander (Helga E Lindqvist)  female   \n",
       "\n",
       "    Age  SibSp  Parch   Ticket     Fare Cabin Embarked  Survived_predictions  \n",
       "0  34.5      0      0   330911   7.8292   NaN        Q                     0  \n",
       "1  47.0      1      0   363272   7.0000   NaN        S                     0  \n",
       "2  62.0      0      0   240276   9.6875   NaN        Q                     0  \n",
       "3  27.0      0      0   315154   8.6625   NaN        S                     0  \n",
       "4  22.0      1      1  3101298  12.2875   NaN        S                     1  "
      ]
     },
     "execution_count": 57,
     "metadata": {},
     "output_type": "execute_result"
    }
   ],
   "source": [
    "raw_test_data.head()"
   ]
  },
  {
   "cell_type": "code",
   "execution_count": 58,
   "id": "59d2ad4c",
   "metadata": {},
   "outputs": [
    {
     "data": {
      "text/html": [
       "<div>\n",
       "<style scoped>\n",
       "    .dataframe tbody tr th:only-of-type {\n",
       "        vertical-align: middle;\n",
       "    }\n",
       "\n",
       "    .dataframe tbody tr th {\n",
       "        vertical-align: top;\n",
       "    }\n",
       "\n",
       "    .dataframe thead th {\n",
       "        text-align: right;\n",
       "    }\n",
       "</style>\n",
       "<table border=\"1\" class=\"dataframe\">\n",
       "  <thead>\n",
       "    <tr style=\"text-align: right;\">\n",
       "      <th></th>\n",
       "      <th>PassengerId</th>\n",
       "      <th>Pclass</th>\n",
       "      <th>Name</th>\n",
       "      <th>Sex</th>\n",
       "      <th>Age</th>\n",
       "      <th>SibSp</th>\n",
       "      <th>Parch</th>\n",
       "      <th>Ticket</th>\n",
       "      <th>Fare</th>\n",
       "      <th>Cabin</th>\n",
       "      <th>Embarked</th>\n",
       "      <th>Survived_predictions</th>\n",
       "    </tr>\n",
       "  </thead>\n",
       "  <tbody>\n",
       "    <tr>\n",
       "      <th>413</th>\n",
       "      <td>1305</td>\n",
       "      <td>3</td>\n",
       "      <td>Spector, Mr. Woolf</td>\n",
       "      <td>male</td>\n",
       "      <td>NaN</td>\n",
       "      <td>0</td>\n",
       "      <td>0</td>\n",
       "      <td>A.5. 3236</td>\n",
       "      <td>8.0500</td>\n",
       "      <td>NaN</td>\n",
       "      <td>S</td>\n",
       "      <td>0</td>\n",
       "    </tr>\n",
       "    <tr>\n",
       "      <th>414</th>\n",
       "      <td>1306</td>\n",
       "      <td>1</td>\n",
       "      <td>Oliva y Ocana, Dona. Fermina</td>\n",
       "      <td>female</td>\n",
       "      <td>39.0</td>\n",
       "      <td>0</td>\n",
       "      <td>0</td>\n",
       "      <td>PC 17758</td>\n",
       "      <td>108.9000</td>\n",
       "      <td>C105</td>\n",
       "      <td>C</td>\n",
       "      <td>1</td>\n",
       "    </tr>\n",
       "    <tr>\n",
       "      <th>415</th>\n",
       "      <td>1307</td>\n",
       "      <td>3</td>\n",
       "      <td>Saether, Mr. Simon Sivertsen</td>\n",
       "      <td>male</td>\n",
       "      <td>38.5</td>\n",
       "      <td>0</td>\n",
       "      <td>0</td>\n",
       "      <td>SOTON/O.Q. 3101262</td>\n",
       "      <td>7.2500</td>\n",
       "      <td>NaN</td>\n",
       "      <td>S</td>\n",
       "      <td>0</td>\n",
       "    </tr>\n",
       "    <tr>\n",
       "      <th>416</th>\n",
       "      <td>1308</td>\n",
       "      <td>3</td>\n",
       "      <td>Ware, Mr. Frederick</td>\n",
       "      <td>male</td>\n",
       "      <td>NaN</td>\n",
       "      <td>0</td>\n",
       "      <td>0</td>\n",
       "      <td>359309</td>\n",
       "      <td>8.0500</td>\n",
       "      <td>NaN</td>\n",
       "      <td>S</td>\n",
       "      <td>0</td>\n",
       "    </tr>\n",
       "    <tr>\n",
       "      <th>417</th>\n",
       "      <td>1309</td>\n",
       "      <td>3</td>\n",
       "      <td>Peter, Master. Michael J</td>\n",
       "      <td>male</td>\n",
       "      <td>NaN</td>\n",
       "      <td>1</td>\n",
       "      <td>1</td>\n",
       "      <td>2668</td>\n",
       "      <td>22.3583</td>\n",
       "      <td>NaN</td>\n",
       "      <td>C</td>\n",
       "      <td>0</td>\n",
       "    </tr>\n",
       "  </tbody>\n",
       "</table>\n",
       "</div>"
      ],
      "text/plain": [
       "     PassengerId  Pclass                          Name     Sex   Age  SibSp  \\\n",
       "413         1305       3            Spector, Mr. Woolf    male   NaN      0   \n",
       "414         1306       1  Oliva y Ocana, Dona. Fermina  female  39.0      0   \n",
       "415         1307       3  Saether, Mr. Simon Sivertsen    male  38.5      0   \n",
       "416         1308       3           Ware, Mr. Frederick    male   NaN      0   \n",
       "417         1309       3      Peter, Master. Michael J    male   NaN      1   \n",
       "\n",
       "     Parch              Ticket      Fare Cabin Embarked  Survived_predictions  \n",
       "413      0           A.5. 3236    8.0500   NaN        S                     0  \n",
       "414      0            PC 17758  108.9000  C105        C                     1  \n",
       "415      0  SOTON/O.Q. 3101262    7.2500   NaN        S                     0  \n",
       "416      0              359309    8.0500   NaN        S                     0  \n",
       "417      1                2668   22.3583   NaN        C                     0  "
      ]
     },
     "execution_count": 58,
     "metadata": {},
     "output_type": "execute_result"
    }
   ],
   "source": [
    "raw_test_data.tail()"
   ]
  },
  {
   "cell_type": "code",
   "execution_count": null,
   "id": "9e38bdf2",
   "metadata": {},
   "outputs": [],
   "source": []
  }
 ],
 "metadata": {
  "kernelspec": {
   "display_name": "Python 3 (ipykernel)",
   "language": "python",
   "name": "python3"
  },
  "language_info": {
   "codemirror_mode": {
    "name": "ipython",
    "version": 3
   },
   "file_extension": ".py",
   "mimetype": "text/x-python",
   "name": "python",
   "nbconvert_exporter": "python",
   "pygments_lexer": "ipython3",
   "version": "3.9.12"
  },
  "papermill": {
   "default_parameters": {},
   "duration": 424.563048,
   "end_time": "2022-10-06T21:32:44.956888",
   "environment_variables": {},
   "exception": null,
   "input_path": "__notebook__.ipynb",
   "output_path": "__notebook__.ipynb",
   "parameters": {},
   "start_time": "2022-10-06T21:25:40.393840",
   "version": "2.3.4"
  }
 },
 "nbformat": 4,
 "nbformat_minor": 5
}
